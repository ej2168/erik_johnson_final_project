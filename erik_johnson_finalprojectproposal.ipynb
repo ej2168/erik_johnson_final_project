{
 "cells": [
  {
   "cell_type": "markdown",
   "metadata": {},
   "source": [
    "# Problem statement: "
   ]
  },
  {
   "cell_type": "markdown",
   "metadata": {},
   "source": [
    "The company lacks a data-driven understanding of who has needs for their products, how many of those people there are, and what that available market is. "
   ]
  },
  {
   "cell_type": "markdown",
   "metadata": {},
   "source": [
    "# Hypothesis/assumptions"
   ]
  },
  {
   "cell_type": "markdown",
   "metadata": {},
   "source": [
    "*  It also has little to no predictive characteristics of interest in particular products to support strategic targeting of marketing and sales efforts. \n",
    "*  Because of that lack of clear segmentation and targeting, marketing and sales efforts lack focus and cohesion among products and segments. \n",
    "*  A modeling of this market and segmentation would not be definitive, but provide a grounding for strategy and targeting. "
   ]
  },
  {
   "cell_type": "markdown",
   "metadata": {},
   "source": [
    "# Goals and success metrics"
   ]
  },
  {
   "cell_type": "markdown",
   "metadata": {},
   "source": [
    "* Define predictive characteristics of financial advisors for Morningstar products\n",
    "*  Combine predictive characteristic with a dataset of the advisor market to model the available market for Morningstar products\n",
    "*  Build a model that can predict the likelihood of a prospect being becoming a Morningstar customer"
   ]
  },
  {
   "cell_type": "markdown",
   "metadata": {},
   "source": [
    "# Risks or limitations"
   ]
  },
  {
   "cell_type": "markdown",
   "metadata": {},
   "source": [
    "* Data may not be robust enough to determine useful predictors of needs for a given product \n",
    "*  Enough data may not be available to develop a model precise enough to motivate strategic decisions"
   ]
  },
  {
   "cell_type": "markdown",
   "metadata": {},
   "source": [
    "# Dataset(s)"
   ]
  },
  {
   "cell_type": "code",
   "execution_count": null,
   "metadata": {},
   "outputs": [],
   "source": [
    "* Discovery database\n",
    "*  Eloqua\n",
    "*  Salesforce "
   ]
  }
 ],
 "metadata": {
  "kernelspec": {
   "display_name": "Python 3",
   "language": "python",
   "name": "python3"
  },
  "language_info": {
   "codemirror_mode": {
    "name": "ipython",
    "version": 3
   },
   "file_extension": ".py",
   "mimetype": "text/x-python",
   "name": "python",
   "nbconvert_exporter": "python",
   "pygments_lexer": "ipython3",
   "version": "3.6.5"
  }
 },
 "nbformat": 4,
 "nbformat_minor": 2
}
