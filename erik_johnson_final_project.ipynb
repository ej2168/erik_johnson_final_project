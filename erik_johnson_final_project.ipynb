{
 "cells": [
  {
   "cell_type": "code",
   "execution_count": 1,
   "metadata": {},
   "outputs": [],
   "source": [
    "import pandas as pd\n",
    "import numpy as np\n",
    "import seaborn as sns\n",
    "import matplotlib.pyplot as plt\n",
    "\n",
    "from pathlib import Path\n",
    "\n",
    "sns.set(font_scale=1.5);\n"
   ]
  },
  {
   "cell_type": "code",
   "execution_count": 2,
   "metadata": {},
   "outputs": [],
   "source": [
    "%matplotlib inline"
   ]
  },
  {
   "cell_type": "code",
   "execution_count": 3,
   "metadata": {},
   "outputs": [],
   "source": [
    "# upload data \n",
    "file = 'C:/Users/ejohnso/Documents/Data Work/Python Project GA/AllSALsJanJun2018_USDTA_MatchedList_ej.csv'\n",
    "SAL_data = pd.read_csv(file) "
   ]
  },
  {
   "cell_type": "code",
   "execution_count": 4,
   "metadata": {},
   "outputs": [
    {
     "data": {
      "text/plain": [
       "Index(['Contact/Lead ID', 'Contact/Lead Status', 'ID', 'Firm Type',\n",
       "       'Role Type', 'Contact/Lead Company Name', 'Product', 'Opportunity ID',\n",
       "       'Opportunity Sales Stage', 'Opportunity Lost Reason',\n",
       "       'Opportunity Owner', 'count', 'Rep CRD', 'Suffix', 'Title',\n",
       "       'TitleCategories', 'RIAFirmCRD', 'Office_City',\n",
       "       'Office_MetropolitanArea', 'Office_State', 'Office_ZipCode',\n",
       "       'Office_ZipCode4', 'Office_AddressType', 'TotalAssetsInMillions',\n",
       "       'DuallyRegisteredBDRIARep', 'NumberFirmAssociations', 'Licenses',\n",
       "       'BDNameCurrent', 'BreakawayRep', 'RegistrationDate_Full', 'Custodian1',\n",
       "       'Custodian2', 'Custodian3', 'Custodian4', 'Custodian5', 'TotalAccounts',\n",
       "       'AverageAccountSize', 'Number_PlanningClients',\n",
       "       'Number_InvestmentAdvisoryClients', 'Number_IAReps', 'Number_BDReps',\n",
       "       'Number_InsuranceLicensedReps', 'Number_Employees',\n",
       "       'FeeStructure_AssetBasedFee', 'FeeStructure_AssetBasedFeeOnly',\n",
       "       'FeeStructure_HourlyOrFixedFee', 'FeeStructure_PerformanceBasedFee',\n",
       "       'FeeStructure_PerformanceBasedFeeOnly', 'FeeStructure_ReferralBasedFee',\n",
       "       'FeeStructure_TransactionBasedCommission',\n",
       "       'FeeStructure_TransactionBasedCommissionOnly', 'Investments_CDs',\n",
       "       'Investments_ClosedEndFunds', 'Investments_CommercialPaper',\n",
       "       'Investments_CorporateDebt', 'Investments_Equities', 'Investments_ETFs',\n",
       "       'Investments_ETNs', 'Investments_FuturesIntangibles',\n",
       "       'Investments_FuturesTangibles', 'Investments_HedgeFunds',\n",
       "       'Investments_MoneyMarkets', 'Investments_MunicipalSecurities',\n",
       "       'Investments_MutualFunds', 'Investments_OilAndGasPartnerships',\n",
       "       'Investments_OptionsCommodities', 'Investments_OptionsSecurities',\n",
       "       'Investments_OtherPartnerships', 'Investments_PrivateEquityFunds',\n",
       "       'Investments_PrivatePlacements', 'Investments_RealEstatePartnerships',\n",
       "       'Investments_REITs', 'Investments_UITs',\n",
       "       'Investments_USGovernmentSecurities', 'Investments_VariableAnnuities',\n",
       "       'Investments_VariableLife', 'Investments_VentureCapitalFunds',\n",
       "       'Investments_Warrants'],\n",
       "      dtype='object')"
      ]
     },
     "execution_count": 4,
     "metadata": {},
     "output_type": "execute_result"
    }
   ],
   "source": [
    "# view columns \n",
    "SAL_data.columns"
   ]
  },
  {
   "cell_type": "code",
   "execution_count": 5,
   "metadata": {},
   "outputs": [
    {
     "data": {
      "text/html": [
       "<div>\n",
       "<style scoped>\n",
       "    .dataframe tbody tr th:only-of-type {\n",
       "        vertical-align: middle;\n",
       "    }\n",
       "\n",
       "    .dataframe tbody tr th {\n",
       "        vertical-align: top;\n",
       "    }\n",
       "\n",
       "    .dataframe thead th {\n",
       "        text-align: right;\n",
       "    }\n",
       "</style>\n",
       "<table border=\"1\" class=\"dataframe\">\n",
       "  <thead>\n",
       "    <tr style=\"text-align: right;\">\n",
       "      <th></th>\n",
       "      <th>Contact/Lead ID</th>\n",
       "      <th>Contact/Lead Status</th>\n",
       "      <th>ID</th>\n",
       "      <th>Firm Type</th>\n",
       "      <th>Role Type</th>\n",
       "      <th>Contact/Lead Company Name</th>\n",
       "      <th>Product</th>\n",
       "      <th>Opportunity ID</th>\n",
       "      <th>Opportunity Sales Stage</th>\n",
       "      <th>Opportunity Lost Reason</th>\n",
       "      <th>...</th>\n",
       "      <th>Investments_PrivateEquityFunds</th>\n",
       "      <th>Investments_PrivatePlacements</th>\n",
       "      <th>Investments_RealEstatePartnerships</th>\n",
       "      <th>Investments_REITs</th>\n",
       "      <th>Investments_UITs</th>\n",
       "      <th>Investments_USGovernmentSecurities</th>\n",
       "      <th>Investments_VariableAnnuities</th>\n",
       "      <th>Investments_VariableLife</th>\n",
       "      <th>Investments_VentureCapitalFunds</th>\n",
       "      <th>Investments_Warrants</th>\n",
       "    </tr>\n",
       "  </thead>\n",
       "  <tbody>\n",
       "    <tr>\n",
       "      <th>0</th>\n",
       "      <td>0030V00003gQkqcQAC</td>\n",
       "      <td>Converted</td>\n",
       "      <td>1</td>\n",
       "      <td>Registered Investment Advisory Firm (RIA)</td>\n",
       "      <td>Registered Investment Advisor/Financial Planner</td>\n",
       "      <td>Moore &amp; Shirley Financial Planning, LLC</td>\n",
       "      <td>NaN</td>\n",
       "      <td>NaN</td>\n",
       "      <td>NaN</td>\n",
       "      <td>NaN</td>\n",
       "      <td>...</td>\n",
       "      <td>Yes</td>\n",
       "      <td>NaN</td>\n",
       "      <td>NaN</td>\n",
       "      <td>Yes</td>\n",
       "      <td>Yes</td>\n",
       "      <td>Yes</td>\n",
       "      <td>Yes</td>\n",
       "      <td>NaN</td>\n",
       "      <td>NaN</td>\n",
       "      <td>NaN</td>\n",
       "    </tr>\n",
       "    <tr>\n",
       "      <th>1</th>\n",
       "      <td>00Q0V00000xsDOBUA2</td>\n",
       "      <td>Could not contact</td>\n",
       "      <td>2</td>\n",
       "      <td>Registered Investment Advisory Firm (RIA)</td>\n",
       "      <td>Registered Investment Advisor/Financial Planner</td>\n",
       "      <td>Reunite Financial, LLC.</td>\n",
       "      <td>NaN</td>\n",
       "      <td>NaN</td>\n",
       "      <td>NaN</td>\n",
       "      <td>NaN</td>\n",
       "      <td>...</td>\n",
       "      <td>NaN</td>\n",
       "      <td>NaN</td>\n",
       "      <td>NaN</td>\n",
       "      <td>NaN</td>\n",
       "      <td>NaN</td>\n",
       "      <td>NaN</td>\n",
       "      <td>NaN</td>\n",
       "      <td>NaN</td>\n",
       "      <td>NaN</td>\n",
       "      <td>NaN</td>\n",
       "    </tr>\n",
       "    <tr>\n",
       "      <th>2</th>\n",
       "      <td>0030V00003dmoOXQAY</td>\n",
       "      <td>Could Not Contact</td>\n",
       "      <td>3</td>\n",
       "      <td>Registered Investment Advisory Firm (RIA)</td>\n",
       "      <td>Registered Investment Advisor/Financial Planner</td>\n",
       "      <td>North Woods Capital Benefits LLC</td>\n",
       "      <td>NaN</td>\n",
       "      <td>NaN</td>\n",
       "      <td>NaN</td>\n",
       "      <td>NaN</td>\n",
       "      <td>...</td>\n",
       "      <td>NaN</td>\n",
       "      <td>NaN</td>\n",
       "      <td>NaN</td>\n",
       "      <td>NaN</td>\n",
       "      <td>NaN</td>\n",
       "      <td>Yes</td>\n",
       "      <td>NaN</td>\n",
       "      <td>NaN</td>\n",
       "      <td>NaN</td>\n",
       "      <td>NaN</td>\n",
       "    </tr>\n",
       "    <tr>\n",
       "      <th>3</th>\n",
       "      <td>0030V00003dmT71QAE</td>\n",
       "      <td>Converted</td>\n",
       "      <td>4</td>\n",
       "      <td>Registered Investment Advisory Firm (RIA)</td>\n",
       "      <td>Portfolio Management</td>\n",
       "      <td>Executive Planning LLC</td>\n",
       "      <td>Morningstar Office Cloud</td>\n",
       "      <td>OPP536082</td>\n",
       "      <td>6 - Closed Lost</td>\n",
       "      <td>Dropped Project: Budget cut</td>\n",
       "      <td>...</td>\n",
       "      <td>NaN</td>\n",
       "      <td>NaN</td>\n",
       "      <td>NaN</td>\n",
       "      <td>NaN</td>\n",
       "      <td>NaN</td>\n",
       "      <td>NaN</td>\n",
       "      <td>Yes</td>\n",
       "      <td>Yes</td>\n",
       "      <td>NaN</td>\n",
       "      <td>NaN</td>\n",
       "    </tr>\n",
       "    <tr>\n",
       "      <th>4</th>\n",
       "      <td>00Q0V00000xsAXOUA2</td>\n",
       "      <td>Renurture</td>\n",
       "      <td>5</td>\n",
       "      <td>Registered Investment Advisory Firm (RIA)</td>\n",
       "      <td>Registered Investment Advisor/Financial Planner</td>\n",
       "      <td>Gloria Fang CPA PLLC</td>\n",
       "      <td>NaN</td>\n",
       "      <td>NaN</td>\n",
       "      <td>NaN</td>\n",
       "      <td>NaN</td>\n",
       "      <td>...</td>\n",
       "      <td>NaN</td>\n",
       "      <td>NaN</td>\n",
       "      <td>NaN</td>\n",
       "      <td>Yes</td>\n",
       "      <td>NaN</td>\n",
       "      <td>Yes</td>\n",
       "      <td>NaN</td>\n",
       "      <td>NaN</td>\n",
       "      <td>NaN</td>\n",
       "      <td>NaN</td>\n",
       "    </tr>\n",
       "    <tr>\n",
       "      <th>5</th>\n",
       "      <td>00Q0V00000xsAXFUA2</td>\n",
       "      <td>Outreach</td>\n",
       "      <td>6</td>\n",
       "      <td>Asset Management Firm</td>\n",
       "      <td>Investment Advisory</td>\n",
       "      <td>Brokerage Specialists, Inc.</td>\n",
       "      <td>NaN</td>\n",
       "      <td>NaN</td>\n",
       "      <td>NaN</td>\n",
       "      <td>NaN</td>\n",
       "      <td>...</td>\n",
       "      <td>NaN</td>\n",
       "      <td>NaN</td>\n",
       "      <td>NaN</td>\n",
       "      <td>Yes</td>\n",
       "      <td>NaN</td>\n",
       "      <td>Yes</td>\n",
       "      <td>NaN</td>\n",
       "      <td>NaN</td>\n",
       "      <td>NaN</td>\n",
       "      <td>NaN</td>\n",
       "    </tr>\n",
       "    <tr>\n",
       "      <th>6</th>\n",
       "      <td>00Q0V00000xrSfIUAU</td>\n",
       "      <td>Renurture</td>\n",
       "      <td>7</td>\n",
       "      <td>Registered Investment Advisory Firm (RIA)</td>\n",
       "      <td>Registered Investment Advisor/Financial Planner</td>\n",
       "      <td>RevolverCap Management, L.P.</td>\n",
       "      <td>NaN</td>\n",
       "      <td>NaN</td>\n",
       "      <td>NaN</td>\n",
       "      <td>NaN</td>\n",
       "      <td>...</td>\n",
       "      <td>NaN</td>\n",
       "      <td>NaN</td>\n",
       "      <td>NaN</td>\n",
       "      <td>NaN</td>\n",
       "      <td>NaN</td>\n",
       "      <td>NaN</td>\n",
       "      <td>NaN</td>\n",
       "      <td>NaN</td>\n",
       "      <td>NaN</td>\n",
       "      <td>NaN</td>\n",
       "    </tr>\n",
       "    <tr>\n",
       "      <th>7</th>\n",
       "      <td>00Q0V00000zHhpEUAS</td>\n",
       "      <td>Could not contact</td>\n",
       "      <td>8</td>\n",
       "      <td>Asset Management Firm</td>\n",
       "      <td>Registered Investment Advisor/Financial Planner</td>\n",
       "      <td>My Financial Coach</td>\n",
       "      <td>NaN</td>\n",
       "      <td>NaN</td>\n",
       "      <td>NaN</td>\n",
       "      <td>NaN</td>\n",
       "      <td>...</td>\n",
       "      <td>NaN</td>\n",
       "      <td>NaN</td>\n",
       "      <td>Yes</td>\n",
       "      <td>Yes</td>\n",
       "      <td>NaN</td>\n",
       "      <td>Yes</td>\n",
       "      <td>Yes</td>\n",
       "      <td>NaN</td>\n",
       "      <td>NaN</td>\n",
       "      <td>NaN</td>\n",
       "    </tr>\n",
       "    <tr>\n",
       "      <th>8</th>\n",
       "      <td>0030V00003dka2TQAQ</td>\n",
       "      <td>Converted</td>\n",
       "      <td>9</td>\n",
       "      <td>Asset Management Firm</td>\n",
       "      <td>Investment Advisory</td>\n",
       "      <td>Koon Financial Planning &amp; Consulting, LLC</td>\n",
       "      <td>Office Cloud - License</td>\n",
       "      <td>OPP528193</td>\n",
       "      <td>6 - Closed Lost</td>\n",
       "      <td>Competitor Won: We lack key capability</td>\n",
       "      <td>...</td>\n",
       "      <td>NaN</td>\n",
       "      <td>NaN</td>\n",
       "      <td>NaN</td>\n",
       "      <td>NaN</td>\n",
       "      <td>NaN</td>\n",
       "      <td>Yes</td>\n",
       "      <td>NaN</td>\n",
       "      <td>NaN</td>\n",
       "      <td>NaN</td>\n",
       "      <td>NaN</td>\n",
       "    </tr>\n",
       "    <tr>\n",
       "      <th>9</th>\n",
       "      <td>00Q0V00000x78xVUAQ</td>\n",
       "      <td>Renurture</td>\n",
       "      <td>10</td>\n",
       "      <td>Asset Management Firm</td>\n",
       "      <td>Investment Advisory</td>\n",
       "      <td>OLD PEAK FINANCE LLC</td>\n",
       "      <td>NaN</td>\n",
       "      <td>NaN</td>\n",
       "      <td>NaN</td>\n",
       "      <td>NaN</td>\n",
       "      <td>...</td>\n",
       "      <td>NaN</td>\n",
       "      <td>NaN</td>\n",
       "      <td>NaN</td>\n",
       "      <td>NaN</td>\n",
       "      <td>NaN</td>\n",
       "      <td>Yes</td>\n",
       "      <td>NaN</td>\n",
       "      <td>NaN</td>\n",
       "      <td>NaN</td>\n",
       "      <td>NaN</td>\n",
       "    </tr>\n",
       "  </tbody>\n",
       "</table>\n",
       "<p>10 rows × 78 columns</p>\n",
       "</div>"
      ],
      "text/plain": [
       "      Contact/Lead ID Contact/Lead Status  ID  \\\n",
       "0  0030V00003gQkqcQAC           Converted   1   \n",
       "1  00Q0V00000xsDOBUA2   Could not contact   2   \n",
       "2  0030V00003dmoOXQAY   Could Not Contact   3   \n",
       "3  0030V00003dmT71QAE           Converted   4   \n",
       "4  00Q0V00000xsAXOUA2           Renurture   5   \n",
       "5  00Q0V00000xsAXFUA2            Outreach   6   \n",
       "6  00Q0V00000xrSfIUAU           Renurture   7   \n",
       "7  00Q0V00000zHhpEUAS   Could not contact   8   \n",
       "8  0030V00003dka2TQAQ           Converted   9   \n",
       "9  00Q0V00000x78xVUAQ           Renurture  10   \n",
       "\n",
       "                                   Firm Type  \\\n",
       "0  Registered Investment Advisory Firm (RIA)   \n",
       "1  Registered Investment Advisory Firm (RIA)   \n",
       "2  Registered Investment Advisory Firm (RIA)   \n",
       "3  Registered Investment Advisory Firm (RIA)   \n",
       "4  Registered Investment Advisory Firm (RIA)   \n",
       "5                      Asset Management Firm   \n",
       "6  Registered Investment Advisory Firm (RIA)   \n",
       "7                      Asset Management Firm   \n",
       "8                      Asset Management Firm   \n",
       "9                      Asset Management Firm   \n",
       "\n",
       "                                         Role Type  \\\n",
       "0  Registered Investment Advisor/Financial Planner   \n",
       "1  Registered Investment Advisor/Financial Planner   \n",
       "2  Registered Investment Advisor/Financial Planner   \n",
       "3                             Portfolio Management   \n",
       "4  Registered Investment Advisor/Financial Planner   \n",
       "5                              Investment Advisory   \n",
       "6  Registered Investment Advisor/Financial Planner   \n",
       "7  Registered Investment Advisor/Financial Planner   \n",
       "8                              Investment Advisory   \n",
       "9                              Investment Advisory   \n",
       "\n",
       "                   Contact/Lead Company Name                   Product  \\\n",
       "0    Moore & Shirley Financial Planning, LLC                       NaN   \n",
       "1                    Reunite Financial, LLC.                       NaN   \n",
       "2           North Woods Capital Benefits LLC                       NaN   \n",
       "3                     Executive Planning LLC  Morningstar Office Cloud   \n",
       "4                       Gloria Fang CPA PLLC                       NaN   \n",
       "5                Brokerage Specialists, Inc.                       NaN   \n",
       "6               RevolverCap Management, L.P.                       NaN   \n",
       "7                         My Financial Coach                       NaN   \n",
       "8  Koon Financial Planning & Consulting, LLC    Office Cloud - License   \n",
       "9                       OLD PEAK FINANCE LLC                       NaN   \n",
       "\n",
       "  Opportunity ID Opportunity Sales Stage  \\\n",
       "0            NaN                     NaN   \n",
       "1            NaN                     NaN   \n",
       "2            NaN                     NaN   \n",
       "3      OPP536082         6 - Closed Lost   \n",
       "4            NaN                     NaN   \n",
       "5            NaN                     NaN   \n",
       "6            NaN                     NaN   \n",
       "7            NaN                     NaN   \n",
       "8      OPP528193         6 - Closed Lost   \n",
       "9            NaN                     NaN   \n",
       "\n",
       "                  Opportunity Lost Reason         ...           \\\n",
       "0                                     NaN         ...            \n",
       "1                                     NaN         ...            \n",
       "2                                     NaN         ...            \n",
       "3             Dropped Project: Budget cut         ...            \n",
       "4                                     NaN         ...            \n",
       "5                                     NaN         ...            \n",
       "6                                     NaN         ...            \n",
       "7                                     NaN         ...            \n",
       "8  Competitor Won: We lack key capability         ...            \n",
       "9                                     NaN         ...            \n",
       "\n",
       "  Investments_PrivateEquityFunds Investments_PrivatePlacements  \\\n",
       "0                            Yes                           NaN   \n",
       "1                            NaN                           NaN   \n",
       "2                            NaN                           NaN   \n",
       "3                            NaN                           NaN   \n",
       "4                            NaN                           NaN   \n",
       "5                            NaN                           NaN   \n",
       "6                            NaN                           NaN   \n",
       "7                            NaN                           NaN   \n",
       "8                            NaN                           NaN   \n",
       "9                            NaN                           NaN   \n",
       "\n",
       "   Investments_RealEstatePartnerships Investments_REITs Investments_UITs  \\\n",
       "0                                 NaN               Yes              Yes   \n",
       "1                                 NaN               NaN              NaN   \n",
       "2                                 NaN               NaN              NaN   \n",
       "3                                 NaN               NaN              NaN   \n",
       "4                                 NaN               Yes              NaN   \n",
       "5                                 NaN               Yes              NaN   \n",
       "6                                 NaN               NaN              NaN   \n",
       "7                                 Yes               Yes              NaN   \n",
       "8                                 NaN               NaN              NaN   \n",
       "9                                 NaN               NaN              NaN   \n",
       "\n",
       "  Investments_USGovernmentSecurities  Investments_VariableAnnuities  \\\n",
       "0                                Yes                            Yes   \n",
       "1                                NaN                            NaN   \n",
       "2                                Yes                            NaN   \n",
       "3                                NaN                            Yes   \n",
       "4                                Yes                            NaN   \n",
       "5                                Yes                            NaN   \n",
       "6                                NaN                            NaN   \n",
       "7                                Yes                            Yes   \n",
       "8                                Yes                            NaN   \n",
       "9                                Yes                            NaN   \n",
       "\n",
       "  Investments_VariableLife Investments_VentureCapitalFunds  \\\n",
       "0                      NaN                             NaN   \n",
       "1                      NaN                             NaN   \n",
       "2                      NaN                             NaN   \n",
       "3                      Yes                             NaN   \n",
       "4                      NaN                             NaN   \n",
       "5                      NaN                             NaN   \n",
       "6                      NaN                             NaN   \n",
       "7                      NaN                             NaN   \n",
       "8                      NaN                             NaN   \n",
       "9                      NaN                             NaN   \n",
       "\n",
       "  Investments_Warrants  \n",
       "0                  NaN  \n",
       "1                  NaN  \n",
       "2                  NaN  \n",
       "3                  NaN  \n",
       "4                  NaN  \n",
       "5                  NaN  \n",
       "6                  NaN  \n",
       "7                  NaN  \n",
       "8                  NaN  \n",
       "9                  NaN  \n",
       "\n",
       "[10 rows x 78 columns]"
      ]
     },
     "execution_count": 5,
     "metadata": {},
     "output_type": "execute_result"
    }
   ],
   "source": [
    "SAL_data.head(10)"
   ]
  },
  {
   "cell_type": "code",
   "execution_count": 6,
   "metadata": {},
   "outputs": [
    {
     "data": {
      "text/plain": [
       "(3308, 78)"
      ]
     },
     "execution_count": 6,
     "metadata": {},
     "output_type": "execute_result"
    }
   ],
   "source": [
    "SAL_data.shape"
   ]
  },
  {
   "cell_type": "code",
   "execution_count": 7,
   "metadata": {},
   "outputs": [
    {
     "data": {
      "text/plain": [
       "Contact/Lead ID                                 object\n",
       "Contact/Lead Status                             object\n",
       "ID                                               int64\n",
       "Firm Type                                       object\n",
       "Role Type                                       object\n",
       "Contact/Lead Company Name                       object\n",
       "Product                                         object\n",
       "Opportunity ID                                  object\n",
       "Opportunity Sales Stage                         object\n",
       "Opportunity Lost Reason                         object\n",
       "Opportunity Owner                               object\n",
       "count                                           object\n",
       "Rep CRD                                        float64\n",
       "Suffix                                          object\n",
       "Title                                           object\n",
       "TitleCategories                                 object\n",
       "RIAFirmCRD                                     float64\n",
       "Office_City                                     object\n",
       "Office_MetropolitanArea                         object\n",
       "Office_State                                    object\n",
       "Office_ZipCode                                 float64\n",
       "Office_ZipCode4                                float64\n",
       "Office_AddressType                              object\n",
       "TotalAssetsInMillions                          float64\n",
       "DuallyRegisteredBDRIARep                        object\n",
       "NumberFirmAssociations                         float64\n",
       "Licenses                                        object\n",
       "BDNameCurrent                                   object\n",
       "BreakawayRep                                    object\n",
       "RegistrationDate_Full                          float64\n",
       "                                                ...   \n",
       "FeeStructure_ReferralBasedFee                   object\n",
       "FeeStructure_TransactionBasedCommission         object\n",
       "FeeStructure_TransactionBasedCommissionOnly    float64\n",
       "Investments_CDs                                 object\n",
       "Investments_ClosedEndFunds                      object\n",
       "Investments_CommercialPaper                     object\n",
       "Investments_CorporateDebt                       object\n",
       "Investments_Equities                            object\n",
       "Investments_ETFs                                object\n",
       "Investments_ETNs                                object\n",
       "Investments_FuturesIntangibles                  object\n",
       "Investments_FuturesTangibles                    object\n",
       "Investments_HedgeFunds                          object\n",
       "Investments_MoneyMarkets                        object\n",
       "Investments_MunicipalSecurities                 object\n",
       "Investments_MutualFunds                         object\n",
       "Investments_OilAndGasPartnerships               object\n",
       "Investments_OptionsCommodities                  object\n",
       "Investments_OptionsSecurities                   object\n",
       "Investments_OtherPartnerships                   object\n",
       "Investments_PrivateEquityFunds                  object\n",
       "Investments_PrivatePlacements                   object\n",
       "Investments_RealEstatePartnerships              object\n",
       "Investments_REITs                               object\n",
       "Investments_UITs                                object\n",
       "Investments_USGovernmentSecurities              object\n",
       "Investments_VariableAnnuities                   object\n",
       "Investments_VariableLife                        object\n",
       "Investments_VentureCapitalFunds                 object\n",
       "Investments_Warrants                            object\n",
       "Length: 78, dtype: object"
      ]
     },
     "execution_count": 7,
     "metadata": {},
     "output_type": "execute_result"
    }
   ],
   "source": [
    "SAL_data.dtypes"
   ]
  },
  {
   "cell_type": "code",
   "execution_count": 7,
   "metadata": {},
   "outputs": [
    {
     "name": "stdout",
     "output_type": "stream",
     "text": [
      "<class 'pandas.core.frame.DataFrame'>\n",
      "RangeIndex: 3308 entries, 0 to 3307\n",
      "Data columns (total 78 columns):\n",
      "Contact/Lead ID                                3308 non-null object\n",
      "Contact/Lead Status                            3308 non-null object\n",
      "ID                                             3308 non-null int64\n",
      "Firm Type                                      2847 non-null object\n",
      "Role Type                                      2811 non-null object\n",
      "Contact/Lead Company Name                      3302 non-null object\n",
      "Product                                        206 non-null object\n",
      "Opportunity ID                                 206 non-null object\n",
      "Opportunity Sales Stage                        206 non-null object\n",
      "Opportunity Lost Reason                        38 non-null object\n",
      "Opportunity Owner                              206 non-null object\n",
      "count                                          3308 non-null object\n",
      "Rep CRD                                        1296 non-null float64\n",
      "Suffix                                         62 non-null object\n",
      "Title                                          783 non-null object\n",
      "TitleCategories                                1296 non-null object\n",
      "RIAFirmCRD                                     1296 non-null float64\n",
      "Office_City                                    1296 non-null object\n",
      "Office_MetropolitanArea                        1208 non-null object\n",
      "Office_State                                   1293 non-null object\n",
      "Office_ZipCode                                 1269 non-null float64\n",
      "Office_ZipCode4                                1216 non-null float64\n",
      "Office_AddressType                             1296 non-null object\n",
      "TotalAssetsInMillions                          876 non-null float64\n",
      "DuallyRegisteredBDRIARep                       972 non-null object\n",
      "NumberFirmAssociations                         972 non-null float64\n",
      "Licenses                                       955 non-null object\n",
      "BDNameCurrent                                  516 non-null object\n",
      "BreakawayRep                                   904 non-null object\n",
      "RegistrationDate_Full                          972 non-null float64\n",
      "Custodian1                                     902 non-null object\n",
      "Custodian2                                     499 non-null object\n",
      "Custodian3                                     241 non-null object\n",
      "Custodian4                                     117 non-null object\n",
      "Custodian5                                     41 non-null object\n",
      "TotalAccounts                                  1172 non-null float64\n",
      "AverageAccountSize                             1172 non-null float64\n",
      "Number_PlanningClients                         1284 non-null object\n",
      "Number_InvestmentAdvisoryClients               1220 non-null object\n",
      "Number_IAReps                                  1296 non-null float64\n",
      "Number_BDReps                                  802 non-null float64\n",
      "Number_InsuranceLicensedReps                   1036 non-null float64\n",
      "Number_Employees                               1284 non-null float64\n",
      "FeeStructure_AssetBasedFee                     1291 non-null object\n",
      "FeeStructure_AssetBasedFeeOnly                 149 non-null object\n",
      "FeeStructure_HourlyOrFixedFee                  1284 non-null object\n",
      "FeeStructure_PerformanceBasedFee               1269 non-null object\n",
      "FeeStructure_PerformanceBasedFeeOnly           0 non-null float64\n",
      "FeeStructure_ReferralBasedFee                  211 non-null object\n",
      "FeeStructure_TransactionBasedCommission        1272 non-null object\n",
      "FeeStructure_TransactionBasedCommissionOnly    0 non-null float64\n",
      "Investments_CDs                                239 non-null object\n",
      "Investments_ClosedEndFunds                     212 non-null object\n",
      "Investments_CommercialPaper                    133 non-null object\n",
      "Investments_CorporateDebt                      841 non-null object\n",
      "Investments_Equities                           1013 non-null object\n",
      "Investments_ETFs                               1117 non-null object\n",
      "Investments_ETNs                               129 non-null object\n",
      "Investments_FuturesIntangibles                 13 non-null object\n",
      "Investments_FuturesTangibles                   26 non-null object\n",
      "Investments_HedgeFunds                         250 non-null object\n",
      "Investments_MoneyMarkets                       315 non-null object\n",
      "Investments_MunicipalSecurities                796 non-null object\n",
      "Investments_MutualFunds                        1131 non-null object\n",
      "Investments_OilAndGasPartnerships              40 non-null object\n",
      "Investments_OptionsCommodities                 35 non-null object\n",
      "Investments_OptionsSecurities                  622 non-null object\n",
      "Investments_OtherPartnerships                  52 non-null object\n",
      "Investments_PrivateEquityFunds                 36 non-null object\n",
      "Investments_PrivatePlacements                  86 non-null object\n",
      "Investments_RealEstatePartnerships             77 non-null object\n",
      "Investments_REITs                              399 non-null object\n",
      "Investments_UITs                               149 non-null object\n",
      "Investments_USGovernmentSecurities             814 non-null object\n",
      "Investments_VariableAnnuities                  302 non-null object\n",
      "Investments_VariableLife                       149 non-null object\n",
      "Investments_VentureCapitalFunds                15 non-null object\n",
      "Investments_Warrants                           108 non-null object\n",
      "dtypes: float64(15), int64(1), object(62)\n",
      "memory usage: 2.0+ MB\n"
     ]
    }
   ],
   "source": [
    "SAL_data.info()  "
   ]
  },
  {
   "cell_type": "code",
   "execution_count": 8,
   "metadata": {},
   "outputs": [
    {
     "data": {
      "text/plain": [
       "Renurture            1346\n",
       "Could not contact     834\n",
       "Outreach              526\n",
       "Converted             399\n",
       "Purchased AWS         102\n",
       "Could Not Contact     100\n",
       "Total                   1\n",
       "Name: Contact/Lead Status, dtype: int64"
      ]
     },
     "execution_count": 8,
     "metadata": {},
     "output_type": "execute_result"
    }
   ],
   "source": [
    "# check value counts for conversion variables \n",
    "SAL_data.loc[:, 'Contact/Lead Status'].value_counts()"
   ]
  },
  {
   "cell_type": "code",
   "execution_count": 9,
   "metadata": {},
   "outputs": [],
   "source": [
    "# clean up outcome variable \n",
    "# combine conversion measures (converted and purchased aws) to one variable \n",
    "SAL_data['Contact/Lead Status'] = SAL_data['Contact/Lead Status'].replace(['Purchased AWS'],'Converted')"
   ]
  },
  {
   "cell_type": "code",
   "execution_count": 10,
   "metadata": {},
   "outputs": [
    {
     "data": {
      "text/plain": [
       "Renurture            1346\n",
       "Could not contact     834\n",
       "Outreach              526\n",
       "Converted             501\n",
       "Could Not Contact     100\n",
       "Total                   1\n",
       "Name: Contact/Lead Status, dtype: int64"
      ]
     },
     "execution_count": 10,
     "metadata": {},
     "output_type": "execute_result"
    }
   ],
   "source": [
    "# confirm change\n",
    "SAL_data.loc[:, 'Contact/Lead Status'].value_counts()"
   ]
  },
  {
   "cell_type": "code",
   "execution_count": 11,
   "metadata": {},
   "outputs": [
    {
     "data": {
      "text/html": [
       "<div>\n",
       "<style scoped>\n",
       "    .dataframe tbody tr th:only-of-type {\n",
       "        vertical-align: middle;\n",
       "    }\n",
       "\n",
       "    .dataframe tbody tr th {\n",
       "        vertical-align: top;\n",
       "    }\n",
       "\n",
       "    .dataframe thead th {\n",
       "        text-align: right;\n",
       "    }\n",
       "</style>\n",
       "<table border=\"1\" class=\"dataframe\">\n",
       "  <thead>\n",
       "    <tr style=\"text-align: right;\">\n",
       "      <th></th>\n",
       "      <th>Contact/Lead ID</th>\n",
       "      <th>Contact/Lead Status</th>\n",
       "      <th>ID</th>\n",
       "      <th>Firm Type</th>\n",
       "      <th>Role Type</th>\n",
       "      <th>Contact/Lead Company Name</th>\n",
       "      <th>Product</th>\n",
       "      <th>Opportunity ID</th>\n",
       "      <th>Opportunity Sales Stage</th>\n",
       "      <th>Opportunity Lost Reason</th>\n",
       "      <th>...</th>\n",
       "      <th>Investments_PrivatePlacements</th>\n",
       "      <th>Investments_RealEstatePartnerships</th>\n",
       "      <th>Investments_REITs</th>\n",
       "      <th>Investments_UITs</th>\n",
       "      <th>Investments_USGovernmentSecurities</th>\n",
       "      <th>Investments_VariableAnnuities</th>\n",
       "      <th>Investments_VariableLife</th>\n",
       "      <th>Investments_VentureCapitalFunds</th>\n",
       "      <th>Investments_Warrants</th>\n",
       "      <th>Conversion</th>\n",
       "    </tr>\n",
       "  </thead>\n",
       "  <tbody>\n",
       "    <tr>\n",
       "      <th>0</th>\n",
       "      <td>0030V00003gQkqcQAC</td>\n",
       "      <td>Converted</td>\n",
       "      <td>1</td>\n",
       "      <td>Registered Investment Advisory Firm (RIA)</td>\n",
       "      <td>Registered Investment Advisor/Financial Planner</td>\n",
       "      <td>Moore &amp; Shirley Financial Planning, LLC</td>\n",
       "      <td>NaN</td>\n",
       "      <td>NaN</td>\n",
       "      <td>NaN</td>\n",
       "      <td>NaN</td>\n",
       "      <td>...</td>\n",
       "      <td>NaN</td>\n",
       "      <td>NaN</td>\n",
       "      <td>Yes</td>\n",
       "      <td>Yes</td>\n",
       "      <td>Yes</td>\n",
       "      <td>Yes</td>\n",
       "      <td>NaN</td>\n",
       "      <td>NaN</td>\n",
       "      <td>NaN</td>\n",
       "      <td>1</td>\n",
       "    </tr>\n",
       "    <tr>\n",
       "      <th>1</th>\n",
       "      <td>00Q0V00000xsDOBUA2</td>\n",
       "      <td>Could not contact</td>\n",
       "      <td>2</td>\n",
       "      <td>Registered Investment Advisory Firm (RIA)</td>\n",
       "      <td>Registered Investment Advisor/Financial Planner</td>\n",
       "      <td>Reunite Financial, LLC.</td>\n",
       "      <td>NaN</td>\n",
       "      <td>NaN</td>\n",
       "      <td>NaN</td>\n",
       "      <td>NaN</td>\n",
       "      <td>...</td>\n",
       "      <td>NaN</td>\n",
       "      <td>NaN</td>\n",
       "      <td>NaN</td>\n",
       "      <td>NaN</td>\n",
       "      <td>NaN</td>\n",
       "      <td>NaN</td>\n",
       "      <td>NaN</td>\n",
       "      <td>NaN</td>\n",
       "      <td>NaN</td>\n",
       "      <td>0</td>\n",
       "    </tr>\n",
       "    <tr>\n",
       "      <th>2</th>\n",
       "      <td>0030V00003dmoOXQAY</td>\n",
       "      <td>Could Not Contact</td>\n",
       "      <td>3</td>\n",
       "      <td>Registered Investment Advisory Firm (RIA)</td>\n",
       "      <td>Registered Investment Advisor/Financial Planner</td>\n",
       "      <td>North Woods Capital Benefits LLC</td>\n",
       "      <td>NaN</td>\n",
       "      <td>NaN</td>\n",
       "      <td>NaN</td>\n",
       "      <td>NaN</td>\n",
       "      <td>...</td>\n",
       "      <td>NaN</td>\n",
       "      <td>NaN</td>\n",
       "      <td>NaN</td>\n",
       "      <td>NaN</td>\n",
       "      <td>Yes</td>\n",
       "      <td>NaN</td>\n",
       "      <td>NaN</td>\n",
       "      <td>NaN</td>\n",
       "      <td>NaN</td>\n",
       "      <td>0</td>\n",
       "    </tr>\n",
       "    <tr>\n",
       "      <th>3</th>\n",
       "      <td>0030V00003dmT71QAE</td>\n",
       "      <td>Converted</td>\n",
       "      <td>4</td>\n",
       "      <td>Registered Investment Advisory Firm (RIA)</td>\n",
       "      <td>Portfolio Management</td>\n",
       "      <td>Executive Planning LLC</td>\n",
       "      <td>Morningstar Office Cloud</td>\n",
       "      <td>OPP536082</td>\n",
       "      <td>6 - Closed Lost</td>\n",
       "      <td>Dropped Project: Budget cut</td>\n",
       "      <td>...</td>\n",
       "      <td>NaN</td>\n",
       "      <td>NaN</td>\n",
       "      <td>NaN</td>\n",
       "      <td>NaN</td>\n",
       "      <td>NaN</td>\n",
       "      <td>Yes</td>\n",
       "      <td>Yes</td>\n",
       "      <td>NaN</td>\n",
       "      <td>NaN</td>\n",
       "      <td>1</td>\n",
       "    </tr>\n",
       "    <tr>\n",
       "      <th>4</th>\n",
       "      <td>00Q0V00000xsAXOUA2</td>\n",
       "      <td>Renurture</td>\n",
       "      <td>5</td>\n",
       "      <td>Registered Investment Advisory Firm (RIA)</td>\n",
       "      <td>Registered Investment Advisor/Financial Planner</td>\n",
       "      <td>Gloria Fang CPA PLLC</td>\n",
       "      <td>NaN</td>\n",
       "      <td>NaN</td>\n",
       "      <td>NaN</td>\n",
       "      <td>NaN</td>\n",
       "      <td>...</td>\n",
       "      <td>NaN</td>\n",
       "      <td>NaN</td>\n",
       "      <td>Yes</td>\n",
       "      <td>NaN</td>\n",
       "      <td>Yes</td>\n",
       "      <td>NaN</td>\n",
       "      <td>NaN</td>\n",
       "      <td>NaN</td>\n",
       "      <td>NaN</td>\n",
       "      <td>0</td>\n",
       "    </tr>\n",
       "    <tr>\n",
       "      <th>5</th>\n",
       "      <td>00Q0V00000xsAXFUA2</td>\n",
       "      <td>Outreach</td>\n",
       "      <td>6</td>\n",
       "      <td>Asset Management Firm</td>\n",
       "      <td>Investment Advisory</td>\n",
       "      <td>Brokerage Specialists, Inc.</td>\n",
       "      <td>NaN</td>\n",
       "      <td>NaN</td>\n",
       "      <td>NaN</td>\n",
       "      <td>NaN</td>\n",
       "      <td>...</td>\n",
       "      <td>NaN</td>\n",
       "      <td>NaN</td>\n",
       "      <td>Yes</td>\n",
       "      <td>NaN</td>\n",
       "      <td>Yes</td>\n",
       "      <td>NaN</td>\n",
       "      <td>NaN</td>\n",
       "      <td>NaN</td>\n",
       "      <td>NaN</td>\n",
       "      <td>0</td>\n",
       "    </tr>\n",
       "    <tr>\n",
       "      <th>6</th>\n",
       "      <td>00Q0V00000xrSfIUAU</td>\n",
       "      <td>Renurture</td>\n",
       "      <td>7</td>\n",
       "      <td>Registered Investment Advisory Firm (RIA)</td>\n",
       "      <td>Registered Investment Advisor/Financial Planner</td>\n",
       "      <td>RevolverCap Management, L.P.</td>\n",
       "      <td>NaN</td>\n",
       "      <td>NaN</td>\n",
       "      <td>NaN</td>\n",
       "      <td>NaN</td>\n",
       "      <td>...</td>\n",
       "      <td>NaN</td>\n",
       "      <td>NaN</td>\n",
       "      <td>NaN</td>\n",
       "      <td>NaN</td>\n",
       "      <td>NaN</td>\n",
       "      <td>NaN</td>\n",
       "      <td>NaN</td>\n",
       "      <td>NaN</td>\n",
       "      <td>NaN</td>\n",
       "      <td>0</td>\n",
       "    </tr>\n",
       "    <tr>\n",
       "      <th>7</th>\n",
       "      <td>00Q0V00000zHhpEUAS</td>\n",
       "      <td>Could not contact</td>\n",
       "      <td>8</td>\n",
       "      <td>Asset Management Firm</td>\n",
       "      <td>Registered Investment Advisor/Financial Planner</td>\n",
       "      <td>My Financial Coach</td>\n",
       "      <td>NaN</td>\n",
       "      <td>NaN</td>\n",
       "      <td>NaN</td>\n",
       "      <td>NaN</td>\n",
       "      <td>...</td>\n",
       "      <td>NaN</td>\n",
       "      <td>Yes</td>\n",
       "      <td>Yes</td>\n",
       "      <td>NaN</td>\n",
       "      <td>Yes</td>\n",
       "      <td>Yes</td>\n",
       "      <td>NaN</td>\n",
       "      <td>NaN</td>\n",
       "      <td>NaN</td>\n",
       "      <td>0</td>\n",
       "    </tr>\n",
       "    <tr>\n",
       "      <th>8</th>\n",
       "      <td>0030V00003dka2TQAQ</td>\n",
       "      <td>Converted</td>\n",
       "      <td>9</td>\n",
       "      <td>Asset Management Firm</td>\n",
       "      <td>Investment Advisory</td>\n",
       "      <td>Koon Financial Planning &amp; Consulting, LLC</td>\n",
       "      <td>Office Cloud - License</td>\n",
       "      <td>OPP528193</td>\n",
       "      <td>6 - Closed Lost</td>\n",
       "      <td>Competitor Won: We lack key capability</td>\n",
       "      <td>...</td>\n",
       "      <td>NaN</td>\n",
       "      <td>NaN</td>\n",
       "      <td>NaN</td>\n",
       "      <td>NaN</td>\n",
       "      <td>Yes</td>\n",
       "      <td>NaN</td>\n",
       "      <td>NaN</td>\n",
       "      <td>NaN</td>\n",
       "      <td>NaN</td>\n",
       "      <td>1</td>\n",
       "    </tr>\n",
       "    <tr>\n",
       "      <th>9</th>\n",
       "      <td>00Q0V00000x78xVUAQ</td>\n",
       "      <td>Renurture</td>\n",
       "      <td>10</td>\n",
       "      <td>Asset Management Firm</td>\n",
       "      <td>Investment Advisory</td>\n",
       "      <td>OLD PEAK FINANCE LLC</td>\n",
       "      <td>NaN</td>\n",
       "      <td>NaN</td>\n",
       "      <td>NaN</td>\n",
       "      <td>NaN</td>\n",
       "      <td>...</td>\n",
       "      <td>NaN</td>\n",
       "      <td>NaN</td>\n",
       "      <td>NaN</td>\n",
       "      <td>NaN</td>\n",
       "      <td>Yes</td>\n",
       "      <td>NaN</td>\n",
       "      <td>NaN</td>\n",
       "      <td>NaN</td>\n",
       "      <td>NaN</td>\n",
       "      <td>0</td>\n",
       "    </tr>\n",
       "  </tbody>\n",
       "</table>\n",
       "<p>10 rows × 79 columns</p>\n",
       "</div>"
      ],
      "text/plain": [
       "      Contact/Lead ID Contact/Lead Status  ID  \\\n",
       "0  0030V00003gQkqcQAC           Converted   1   \n",
       "1  00Q0V00000xsDOBUA2   Could not contact   2   \n",
       "2  0030V00003dmoOXQAY   Could Not Contact   3   \n",
       "3  0030V00003dmT71QAE           Converted   4   \n",
       "4  00Q0V00000xsAXOUA2           Renurture   5   \n",
       "5  00Q0V00000xsAXFUA2            Outreach   6   \n",
       "6  00Q0V00000xrSfIUAU           Renurture   7   \n",
       "7  00Q0V00000zHhpEUAS   Could not contact   8   \n",
       "8  0030V00003dka2TQAQ           Converted   9   \n",
       "9  00Q0V00000x78xVUAQ           Renurture  10   \n",
       "\n",
       "                                   Firm Type  \\\n",
       "0  Registered Investment Advisory Firm (RIA)   \n",
       "1  Registered Investment Advisory Firm (RIA)   \n",
       "2  Registered Investment Advisory Firm (RIA)   \n",
       "3  Registered Investment Advisory Firm (RIA)   \n",
       "4  Registered Investment Advisory Firm (RIA)   \n",
       "5                      Asset Management Firm   \n",
       "6  Registered Investment Advisory Firm (RIA)   \n",
       "7                      Asset Management Firm   \n",
       "8                      Asset Management Firm   \n",
       "9                      Asset Management Firm   \n",
       "\n",
       "                                         Role Type  \\\n",
       "0  Registered Investment Advisor/Financial Planner   \n",
       "1  Registered Investment Advisor/Financial Planner   \n",
       "2  Registered Investment Advisor/Financial Planner   \n",
       "3                             Portfolio Management   \n",
       "4  Registered Investment Advisor/Financial Planner   \n",
       "5                              Investment Advisory   \n",
       "6  Registered Investment Advisor/Financial Planner   \n",
       "7  Registered Investment Advisor/Financial Planner   \n",
       "8                              Investment Advisory   \n",
       "9                              Investment Advisory   \n",
       "\n",
       "                   Contact/Lead Company Name                   Product  \\\n",
       "0    Moore & Shirley Financial Planning, LLC                       NaN   \n",
       "1                    Reunite Financial, LLC.                       NaN   \n",
       "2           North Woods Capital Benefits LLC                       NaN   \n",
       "3                     Executive Planning LLC  Morningstar Office Cloud   \n",
       "4                       Gloria Fang CPA PLLC                       NaN   \n",
       "5                Brokerage Specialists, Inc.                       NaN   \n",
       "6               RevolverCap Management, L.P.                       NaN   \n",
       "7                         My Financial Coach                       NaN   \n",
       "8  Koon Financial Planning & Consulting, LLC    Office Cloud - License   \n",
       "9                       OLD PEAK FINANCE LLC                       NaN   \n",
       "\n",
       "  Opportunity ID Opportunity Sales Stage  \\\n",
       "0            NaN                     NaN   \n",
       "1            NaN                     NaN   \n",
       "2            NaN                     NaN   \n",
       "3      OPP536082         6 - Closed Lost   \n",
       "4            NaN                     NaN   \n",
       "5            NaN                     NaN   \n",
       "6            NaN                     NaN   \n",
       "7            NaN                     NaN   \n",
       "8      OPP528193         6 - Closed Lost   \n",
       "9            NaN                     NaN   \n",
       "\n",
       "                  Opportunity Lost Reason    ...      \\\n",
       "0                                     NaN    ...       \n",
       "1                                     NaN    ...       \n",
       "2                                     NaN    ...       \n",
       "3             Dropped Project: Budget cut    ...       \n",
       "4                                     NaN    ...       \n",
       "5                                     NaN    ...       \n",
       "6                                     NaN    ...       \n",
       "7                                     NaN    ...       \n",
       "8  Competitor Won: We lack key capability    ...       \n",
       "9                                     NaN    ...       \n",
       "\n",
       "  Investments_PrivatePlacements Investments_RealEstatePartnerships  \\\n",
       "0                           NaN                                NaN   \n",
       "1                           NaN                                NaN   \n",
       "2                           NaN                                NaN   \n",
       "3                           NaN                                NaN   \n",
       "4                           NaN                                NaN   \n",
       "5                           NaN                                NaN   \n",
       "6                           NaN                                NaN   \n",
       "7                           NaN                                Yes   \n",
       "8                           NaN                                NaN   \n",
       "9                           NaN                                NaN   \n",
       "\n",
       "   Investments_REITs Investments_UITs Investments_USGovernmentSecurities  \\\n",
       "0                Yes              Yes                                Yes   \n",
       "1                NaN              NaN                                NaN   \n",
       "2                NaN              NaN                                Yes   \n",
       "3                NaN              NaN                                NaN   \n",
       "4                Yes              NaN                                Yes   \n",
       "5                Yes              NaN                                Yes   \n",
       "6                NaN              NaN                                NaN   \n",
       "7                Yes              NaN                                Yes   \n",
       "8                NaN              NaN                                Yes   \n",
       "9                NaN              NaN                                Yes   \n",
       "\n",
       "  Investments_VariableAnnuities  Investments_VariableLife  \\\n",
       "0                           Yes                       NaN   \n",
       "1                           NaN                       NaN   \n",
       "2                           NaN                       NaN   \n",
       "3                           Yes                       Yes   \n",
       "4                           NaN                       NaN   \n",
       "5                           NaN                       NaN   \n",
       "6                           NaN                       NaN   \n",
       "7                           Yes                       NaN   \n",
       "8                           NaN                       NaN   \n",
       "9                           NaN                       NaN   \n",
       "\n",
       "  Investments_VentureCapitalFunds Investments_Warrants Conversion  \n",
       "0                             NaN                  NaN          1  \n",
       "1                             NaN                  NaN          0  \n",
       "2                             NaN                  NaN          0  \n",
       "3                             NaN                  NaN          1  \n",
       "4                             NaN                  NaN          0  \n",
       "5                             NaN                  NaN          0  \n",
       "6                             NaN                  NaN          0  \n",
       "7                             NaN                  NaN          0  \n",
       "8                             NaN                  NaN          1  \n",
       "9                             NaN                  NaN          0  \n",
       "\n",
       "[10 rows x 79 columns]"
      ]
     },
     "execution_count": 11,
     "metadata": {},
     "output_type": "execute_result"
    }
   ],
   "source": [
    "# code outcome variable as 1 and 0\n",
    "SAL_data['Conversion'] = np.where(SAL_data['Contact/Lead Status']=='Converted', 1, 0)\n",
    "SAL_data.head(10)"
   ]
  },
  {
   "cell_type": "code",
   "execution_count": 12,
   "metadata": {},
   "outputs": [
    {
     "data": {
      "image/png": "[encoded data removed]",
      "text/plain": [
       "<Figure size 432x288 with 1 Axes>"
      ]
     },
     "metadata": {
      "needs_background": "light"
     },
     "output_type": "display_data"
    }
   ],
   "source": [
    "# visualize relationship between target variables \n",
    "# Make a scatter plot comparing `conversion` and `total assets`\n",
    "# /scrub/\n",
    "ax = SAL_data.plot(kind='scatter', x='Conversion', y='TotalAssetsInMillions')"
   ]
  },
  {
   "cell_type": "code",
   "execution_count": 13,
   "metadata": {},
   "outputs": [
    {
     "name": "stdout",
     "output_type": "stream",
     "text": [
      "<class 'pandas.core.frame.DataFrame'>\n",
      "RangeIndex: 3308 entries, 0 to 3307\n",
      "Data columns (total 79 columns):\n",
      "Contact/Lead ID                                3308 non-null object\n",
      "Contact/Lead Status                            3308 non-null object\n",
      "ID                                             3308 non-null int64\n",
      "Firm Type                                      2847 non-null object\n",
      "Role Type                                      2811 non-null object\n",
      "Contact/Lead Company Name                      3302 non-null object\n",
      "Product                                        206 non-null object\n",
      "Opportunity ID                                 206 non-null object\n",
      "Opportunity Sales Stage                        206 non-null object\n",
      "Opportunity Lost Reason                        38 non-null object\n",
      "Opportunity Owner                              206 non-null object\n",
      "count                                          3308 non-null object\n",
      "Rep CRD                                        1296 non-null float64\n",
      "Suffix                                         62 non-null object\n",
      "Title                                          783 non-null object\n",
      "TitleCategories                                1296 non-null object\n",
      "RIAFirmCRD                                     1296 non-null float64\n",
      "Office_City                                    1296 non-null object\n",
      "Office_MetropolitanArea                        1208 non-null object\n",
      "Office_State                                   1293 non-null object\n",
      "Office_ZipCode                                 1269 non-null float64\n",
      "Office_ZipCode4                                1216 non-null float64\n",
      "Office_AddressType                             1296 non-null object\n",
      "TotalAssetsInMillions                          876 non-null float64\n",
      "DuallyRegisteredBDRIARep                       972 non-null object\n",
      "NumberFirmAssociations                         972 non-null float64\n",
      "Licenses                                       955 non-null object\n",
      "BDNameCurrent                                  516 non-null object\n",
      "BreakawayRep                                   904 non-null object\n",
      "RegistrationDate_Full                          972 non-null float64\n",
      "Custodian1                                     902 non-null object\n",
      "Custodian2                                     499 non-null object\n",
      "Custodian3                                     241 non-null object\n",
      "Custodian4                                     117 non-null object\n",
      "Custodian5                                     41 non-null object\n",
      "TotalAccounts                                  1172 non-null float64\n",
      "AverageAccountSize                             1172 non-null float64\n",
      "Number_PlanningClients                         1284 non-null object\n",
      "Number_InvestmentAdvisoryClients               1220 non-null object\n",
      "Number_IAReps                                  1296 non-null float64\n",
      "Number_BDReps                                  802 non-null float64\n",
      "Number_InsuranceLicensedReps                   1036 non-null float64\n",
      "Number_Employees                               1284 non-null float64\n",
      "FeeStructure_AssetBasedFee                     1291 non-null object\n",
      "FeeStructure_AssetBasedFeeOnly                 149 non-null object\n",
      "FeeStructure_HourlyOrFixedFee                  1284 non-null object\n",
      "FeeStructure_PerformanceBasedFee               1269 non-null object\n",
      "FeeStructure_PerformanceBasedFeeOnly           0 non-null float64\n",
      "FeeStructure_ReferralBasedFee                  211 non-null object\n",
      "FeeStructure_TransactionBasedCommission        1272 non-null object\n",
      "FeeStructure_TransactionBasedCommissionOnly    0 non-null float64\n",
      "Investments_CDs                                239 non-null object\n",
      "Investments_ClosedEndFunds                     212 non-null object\n",
      "Investments_CommercialPaper                    133 non-null object\n",
      "Investments_CorporateDebt                      841 non-null object\n",
      "Investments_Equities                           1013 non-null object\n",
      "Investments_ETFs                               1117 non-null object\n",
      "Investments_ETNs                               129 non-null object\n",
      "Investments_FuturesIntangibles                 13 non-null object\n",
      "Investments_FuturesTangibles                   26 non-null object\n",
      "Investments_HedgeFunds                         250 non-null object\n",
      "Investments_MoneyMarkets                       315 non-null object\n",
      "Investments_MunicipalSecurities                796 non-null object\n",
      "Investments_MutualFunds                        1131 non-null object\n",
      "Investments_OilAndGasPartnerships              40 non-null object\n",
      "Investments_OptionsCommodities                 35 non-null object\n",
      "Investments_OptionsSecurities                  622 non-null object\n",
      "Investments_OtherPartnerships                  52 non-null object\n",
      "Investments_PrivateEquityFunds                 36 non-null object\n",
      "Investments_PrivatePlacements                  86 non-null object\n",
      "Investments_RealEstatePartnerships             77 non-null object\n",
      "Investments_REITs                              399 non-null object\n",
      "Investments_UITs                               149 non-null object\n",
      "Investments_USGovernmentSecurities             814 non-null object\n",
      "Investments_VariableAnnuities                  302 non-null object\n",
      "Investments_VariableLife                       149 non-null object\n",
      "Investments_VentureCapitalFunds                15 non-null object\n",
      "Investments_Warrants                           108 non-null object\n",
      "Conversion                                     3308 non-null int32\n",
      "dtypes: float64(15), int32(1), int64(1), object(62)\n",
      "memory usage: 2.0+ MB\n"
     ]
    }
   ],
   "source": [
    "# remove null values\n",
    "\n",
    "SAL_data.info()   # Quickly shows number of non-null per column"
   ]
  },
  {
   "cell_type": "code",
   "execution_count": 29,
   "metadata": {},
   "outputs": [
    {
     "data": {
      "text/plain": [
       "2432"
      ]
     },
     "execution_count": 29,
     "metadata": {},
     "output_type": "execute_result"
    }
   ],
   "source": [
    "SAL_data['TotalAssetsInMillions'].isnull().sum()"
   ]
  },
  {
   "cell_type": "code",
   "execution_count": 51,
   "metadata": {},
   "outputs": [],
   "source": [
    "SAL_totalassetsviz = SAL_data[['TotalAssetsInMillions', 'ID']].copy()"
   ]
  },
  {
   "cell_type": "code",
   "execution_count": 55,
   "metadata": {},
   "outputs": [],
   "source": [
    "SAL_totalassetsviz = SAL_totalassetsviz.dropna()"
   ]
  },
  {
   "cell_type": "code",
   "execution_count": 57,
   "metadata": {},
   "outputs": [
    {
     "data": {
      "text/plain": [
       "0"
      ]
     },
     "execution_count": 57,
     "metadata": {},
     "output_type": "execute_result"
    }
   ],
   "source": [
    "SAL_totalassetsviz['TotalAssetsInMillions'].isnull().sum()"
   ]
  },
  {
   "cell_type": "code",
   "execution_count": 56,
   "metadata": {},
   "outputs": [
    {
     "data": {
      "image/png": "[encoded data removed]",
      "text/plain": [
       "<Figure size 432x288 with 1 Axes>"
      ]
     },
     "metadata": {
      "needs_background": "light"
     },
     "output_type": "display_data"
    }
   ],
   "source": [
    "# vizualize distribution \n",
    "ax = SAL_totalassetsviz.plot(kind='scatter', x='TotalAssetsInMillions', y='ID', alpha=0.2);"
   ]
  },
  {
   "cell_type": "code",
   "execution_count": 31,
   "metadata": {},
   "outputs": [],
   "source": [
    "SAL_totalassets = SAL_data[['TotalAssetsInMillions', 'Conversion']].copy()"
   ]
  },
  {
   "cell_type": "code",
   "execution_count": 32,
   "metadata": {},
   "outputs": [
    {
     "data": {
      "text/html": [
       "<div>\n",
       "<style scoped>\n",
       "    .dataframe tbody tr th:only-of-type {\n",
       "        vertical-align: middle;\n",
       "    }\n",
       "\n",
       "    .dataframe tbody tr th {\n",
       "        vertical-align: top;\n",
       "    }\n",
       "\n",
       "    .dataframe thead th {\n",
       "        text-align: right;\n",
       "    }\n",
       "</style>\n",
       "<table border=\"1\" class=\"dataframe\">\n",
       "  <thead>\n",
       "    <tr style=\"text-align: right;\">\n",
       "      <th></th>\n",
       "      <th>TotalAssetsInMillions</th>\n",
       "      <th>Conversion</th>\n",
       "    </tr>\n",
       "  </thead>\n",
       "  <tbody>\n",
       "    <tr>\n",
       "      <th>0</th>\n",
       "      <td>40310.84</td>\n",
       "      <td>1</td>\n",
       "    </tr>\n",
       "    <tr>\n",
       "      <th>1</th>\n",
       "      <td>21.07</td>\n",
       "      <td>0</td>\n",
       "    </tr>\n",
       "    <tr>\n",
       "      <th>2</th>\n",
       "      <td>40310.84</td>\n",
       "      <td>0</td>\n",
       "    </tr>\n",
       "    <tr>\n",
       "      <th>3</th>\n",
       "      <td>3404.64</td>\n",
       "      <td>1</td>\n",
       "    </tr>\n",
       "    <tr>\n",
       "      <th>4</th>\n",
       "      <td>23.81</td>\n",
       "      <td>0</td>\n",
       "    </tr>\n",
       "  </tbody>\n",
       "</table>\n",
       "</div>"
      ],
      "text/plain": [
       "   TotalAssetsInMillions  Conversion\n",
       "0               40310.84           1\n",
       "1                  21.07           0\n",
       "2               40310.84           0\n",
       "3                3404.64           1\n",
       "4                  23.81           0"
      ]
     },
     "execution_count": 32,
     "metadata": {},
     "output_type": "execute_result"
    }
   ],
   "source": [
    "SAL_totalassets.head()"
   ]
  },
  {
   "cell_type": "code",
   "execution_count": 38,
   "metadata": {},
   "outputs": [],
   "source": [
    "SAL_totalassets = SAL_totalassets.dropna()"
   ]
  },
  {
   "cell_type": "code",
   "execution_count": 39,
   "metadata": {},
   "outputs": [
    {
     "data": {
      "text/plain": [
       "TotalAssetsInMillions    0\n",
       "Conversion               0\n",
       "dtype: int64"
      ]
     },
     "execution_count": 39,
     "metadata": {},
     "output_type": "execute_result"
    }
   ],
   "source": [
    "SAL_totalassets.isnull().sum()"
   ]
  },
  {
   "cell_type": "code",
   "execution_count": null,
   "metadata": {},
   "outputs": [],
   "source": []
  },
  {
   "cell_type": "code",
   "execution_count": 40,
   "metadata": {},
   "outputs": [],
   "source": [
    "# Fit a linear regression estimator and store the predictions.\n",
    "# /scrub/\n",
    "from sklearn.linear_model import LinearRegression\n",
    "linreg = LinearRegression()\n",
    "\n",
    "feature_cols = ['TotalAssetsInMillions']\n",
    "X = SAL_totalassets[feature_cols] \n",
    "y = SAL_totalassets.loc[:, 'Conversion'] \n",
    "\n",
    "#y=y[np.logical_not(np.isnan(y))]\n",
    "#X=X[np.logical_not(np.isnan(X))]\n",
    "\n",
    "linreg.fit(X, y)\n",
    "SAL_totalassets['Conversion_pred'] = linreg.predict(X)\n",
    "\n"
   ]
  },
  {
   "cell_type": "code",
   "execution_count": 41,
   "metadata": {},
   "outputs": [
    {
     "data": {
      "image/png": "[encoded data removed]",
      "text/plain": [
       "<Figure size 432x288 with 1 Axes>"
      ]
     },
     "metadata": {
      "needs_background": "light"
     },
     "output_type": "display_data"
    }
   ],
   "source": [
    "# Scatter plot that includes the regression line\n",
    "# /scrub/\n",
    "ax = SAL_totalassets.plot(kind='scatter', x='TotalAssetsInMillions', y='Conversion')\n",
    "SAL_totalassets.plot(x='TotalAssetsInMillions', y='Conversion_pred', color='red', ax=ax);"
   ]
  },
  {
   "cell_type": "code",
   "execution_count": 42,
   "metadata": {},
   "outputs": [],
   "source": [
    "# Fit a logistic regression estimator and store the class predictions.\n",
    "from sklearn.linear_model import LogisticRegression\n",
    "\n",
    "logreg = LogisticRegression()\n",
    "\n",
    "feature_cols = ['TotalAssetsInMillions']\n",
    "X = SAL_totalassets.loc[:, feature_cols]\n",
    "y = SAL_totalassets.loc[:, 'Conversion']\n",
    "\n",
    "logreg.fit(X,y)\n",
    "pred = logreg.predict(X)\n"
   ]
  },
  {
   "cell_type": "code",
   "execution_count": 58,
   "metadata": {},
   "outputs": [
    {
     "data": {
      "image/png": "[encoded data removed]",
      "text/plain": [
       "<Figure size 432x288 with 1 Axes>"
      ]
     },
     "metadata": {
      "needs_background": "light"
     },
     "output_type": "display_data"
    }
   ],
   "source": [
    "# Logistic regression handles this case much better, because the\n",
    "# model converges toward 1 instead of flying off to infinity.\n",
    "from sklearn.linear_model import LogisticRegression\n",
    "\n",
    "logreg = LogisticRegression()\n",
    "\n",
    "feature_cols = ['TotalAssetsInMillions']\n",
    "X = SAL_totalassets.loc[:, feature_cols]\n",
    "y = SAL_totalassets.loc[:, 'Conversion']\n",
    "\n",
    "logreg.fit(X,y)\n",
    "pred = logreg.predict(X)\n",
    "\n",
    "SAL_totalassets.loc[:, 'SAL_totalassets_pred_prob'] = logreg.predict_proba(X)[:, 1]\n",
    "ax = SAL_totalassets.plot(kind='scatter', x='TotalAssetsInMillions', y='Conversion')\n",
    "SAL_totalassets.plot(x='TotalAssetsInMillions', y='SAL_totalassets_pred_prob', c='r', ax=ax);"
   ]
  },
  {
   "cell_type": "code",
   "execution_count": 60,
   "metadata": {},
   "outputs": [
    {
     "data": {
      "image/png": "[encoded data removed]",
      "text/plain": [
       "<Figure size 432x288 with 1 Axes>"
      ]
     },
     "metadata": {
      "needs_background": "light"
     },
     "output_type": "display_data"
    }
   ],
   "source": [
    "# Scatterplot logistic regression \n",
    "ax = SAL_totalassets.plot(kind='scatter', x='TotalAssetsInMillions', y='Conversion')\n",
    "ax.plot(SAL_totalassets.loc[:, 'TotalAssetsInMillions'], np.array(pred), c='r');"
   ]
  },
  {
   "cell_type": "code",
   "execution_count": 61,
   "metadata": {},
   "outputs": [
    {
     "data": {
      "text/plain": [
       "array([[0.54017761, 0.45982239],\n",
       "       [0.50002105, 0.49997895],\n",
       "       [0.54017761, 0.45982239],\n",
       "       [0.50340067, 0.49659933],\n",
       "       [0.50002378, 0.49997622],\n",
       "       [0.50015185, 0.49984815],\n",
       "       [0.50015572, 0.49984428],\n",
       "       [0.64780831, 0.35219169],\n",
       "       [0.58018182, 0.41981818],\n",
       "       [0.50002526, 0.49997474]])"
      ]
     },
     "execution_count": 61,
     "metadata": {},
     "output_type": "execute_result"
    }
   ],
   "source": [
    "# Examine the predicted probabilities for the first handful of rows of `X`.\n",
    "logreg.predict_proba(X)[0:10]"
   ]
  },
  {
   "cell_type": "code",
   "execution_count": 62,
   "metadata": {},
   "outputs": [],
   "source": [
    "# Store the predicted probabilities of class 1.\n",
    "# /scrub/\n",
    "SAL_totalassets.loc[:, 'conversion_pred_prob'] = logreg.predict_proba(X)[:, 1]"
   ]
  },
  {
   "cell_type": "code",
   "execution_count": 63,
   "metadata": {},
   "outputs": [
    {
     "data": {
      "text/html": [
       "<div>\n",
       "<style scoped>\n",
       "    .dataframe tbody tr th:only-of-type {\n",
       "        vertical-align: middle;\n",
       "    }\n",
       "\n",
       "    .dataframe tbody tr th {\n",
       "        vertical-align: top;\n",
       "    }\n",
       "\n",
       "    .dataframe thead th {\n",
       "        text-align: right;\n",
       "    }\n",
       "</style>\n",
       "<table border=\"1\" class=\"dataframe\">\n",
       "  <thead>\n",
       "    <tr style=\"text-align: right;\">\n",
       "      <th></th>\n",
       "      <th>TotalAssetsInMillions</th>\n",
       "      <th>Conversion</th>\n",
       "      <th>Conversion_pred</th>\n",
       "      <th>conversion_pred_prob</th>\n",
       "      <th>SAL_totalassets_pred_prob</th>\n",
       "    </tr>\n",
       "  </thead>\n",
       "  <tbody>\n",
       "    <tr>\n",
       "      <th>0</th>\n",
       "      <td>40310.84</td>\n",
       "      <td>1</td>\n",
       "      <td>0.152912</td>\n",
       "      <td>0.459822</td>\n",
       "      <td>0.459822</td>\n",
       "    </tr>\n",
       "    <tr>\n",
       "      <th>1</th>\n",
       "      <td>21.07</td>\n",
       "      <td>0</td>\n",
       "      <td>0.146979</td>\n",
       "      <td>0.499979</td>\n",
       "      <td>0.499979</td>\n",
       "    </tr>\n",
       "    <tr>\n",
       "      <th>2</th>\n",
       "      <td>40310.84</td>\n",
       "      <td>0</td>\n",
       "      <td>0.152912</td>\n",
       "      <td>0.459822</td>\n",
       "      <td>0.459822</td>\n",
       "    </tr>\n",
       "    <tr>\n",
       "      <th>3</th>\n",
       "      <td>3404.64</td>\n",
       "      <td>1</td>\n",
       "      <td>0.147477</td>\n",
       "      <td>0.496599</td>\n",
       "      <td>0.496599</td>\n",
       "    </tr>\n",
       "    <tr>\n",
       "      <th>4</th>\n",
       "      <td>23.81</td>\n",
       "      <td>0</td>\n",
       "      <td>0.146979</td>\n",
       "      <td>0.499976</td>\n",
       "      <td>0.499976</td>\n",
       "    </tr>\n",
       "    <tr>\n",
       "      <th>5</th>\n",
       "      <td>152.03</td>\n",
       "      <td>0</td>\n",
       "      <td>0.146998</td>\n",
       "      <td>0.499848</td>\n",
       "      <td>0.499848</td>\n",
       "    </tr>\n",
       "    <tr>\n",
       "      <th>6</th>\n",
       "      <td>155.90</td>\n",
       "      <td>0</td>\n",
       "      <td>0.146999</td>\n",
       "      <td>0.499844</td>\n",
       "      <td>0.499844</td>\n",
       "    </tr>\n",
       "    <tr>\n",
       "      <th>7</th>\n",
       "      <td>152530.46</td>\n",
       "      <td>0</td>\n",
       "      <td>0.169437</td>\n",
       "      <td>0.352192</td>\n",
       "      <td>0.352192</td>\n",
       "    </tr>\n",
       "    <tr>\n",
       "      <th>8</th>\n",
       "      <td>80973.20</td>\n",
       "      <td>1</td>\n",
       "      <td>0.158900</td>\n",
       "      <td>0.419818</td>\n",
       "      <td>0.419818</td>\n",
       "    </tr>\n",
       "    <tr>\n",
       "      <th>9</th>\n",
       "      <td>25.29</td>\n",
       "      <td>0</td>\n",
       "      <td>0.146979</td>\n",
       "      <td>0.499975</td>\n",
       "      <td>0.499975</td>\n",
       "    </tr>\n",
       "  </tbody>\n",
       "</table>\n",
       "</div>"
      ],
      "text/plain": [
       "   TotalAssetsInMillions  Conversion  Conversion_pred  conversion_pred_prob  \\\n",
       "0               40310.84           1         0.152912              0.459822   \n",
       "1                  21.07           0         0.146979              0.499979   \n",
       "2               40310.84           0         0.152912              0.459822   \n",
       "3                3404.64           1         0.147477              0.496599   \n",
       "4                  23.81           0         0.146979              0.499976   \n",
       "5                 152.03           0         0.146998              0.499848   \n",
       "6                 155.90           0         0.146999              0.499844   \n",
       "7              152530.46           0         0.169437              0.352192   \n",
       "8               80973.20           1         0.158900              0.419818   \n",
       "9                  25.29           0         0.146979              0.499975   \n",
       "\n",
       "   SAL_totalassets_pred_prob  \n",
       "0                   0.459822  \n",
       "1                   0.499979  \n",
       "2                   0.459822  \n",
       "3                   0.496599  \n",
       "4                   0.499976  \n",
       "5                   0.499848  \n",
       "6                   0.499844  \n",
       "7                   0.352192  \n",
       "8                   0.419818  \n",
       "9                   0.499975  "
      ]
     },
     "execution_count": 63,
     "metadata": {},
     "output_type": "execute_result"
    }
   ],
   "source": [
    "SAL_totalassets.head(10)"
   ]
  },
  {
   "cell_type": "code",
   "execution_count": 64,
   "metadata": {},
   "outputs": [
    {
     "data": {
      "image/png": "[encoded data removed]",
      "text/plain": [
       "<Figure size 432x288 with 1 Axes>"
      ]
     },
     "metadata": {
      "needs_background": "light"
     },
     "output_type": "display_data"
    }
   ],
   "source": [
    "# Plot the predicted probabilities.\n",
    "ax = SAL_totalassets.plot(kind='scatter', x='TotalAssetsInMillions', y='Conversion')\n",
    "SAL_totalassets.plot(x='TotalAssetsInMillions', y='conversion_pred_prob', c='r', ax=ax);"
   ]
  },
  {
   "cell_type": "code",
   "execution_count": 48,
   "metadata": {},
   "outputs": [
    {
     "name": "stdout",
     "output_type": "stream",
     "text": [
      "[[0.500001 0.499999]]\n",
      "[[0.500002 0.499998]]\n",
      "[[0.500003 0.499997]]\n"
     ]
    }
   ],
   "source": [
    "# Examine some example predictions.\n",
    "# /scrub/\n",
    "print(logreg.predict_proba(1))\n",
    "print(logreg.predict_proba(2))\n",
    "print(logreg.predict_proba(3))"
   ]
  },
  {
   "cell_type": "code",
   "execution_count": 49,
   "metadata": {},
   "outputs": [
    {
     "data": {
      "text/plain": [
       "0    738\n",
       "1    138\n",
       "Name: Conversion, dtype: int64"
      ]
     },
     "execution_count": 49,
     "metadata": {},
     "output_type": "execute_result"
    }
   ],
   "source": [
    "# appears there may not be enough data points of conversion; check value counts \n",
    "SAL_totalassets.loc[:, 'Conversion'].value_counts()"
   ]
  },
  {
   "cell_type": "code",
   "execution_count": 65,
   "metadata": {},
   "outputs": [],
   "source": [
    "# get test set and score \n",
    "from sklearn.linear_model import LogisticRegression\n",
    "LR = LogisticRegression()\n",
    "X = SAL_totalassets.loc[:, ['TotalAssetsInMillions']]\n",
    "y = SAL_totalassets.loc[:, 'Conversion']"
   ]
  },
  {
   "cell_type": "code",
   "execution_count": 66,
   "metadata": {},
   "outputs": [],
   "source": [
    "from sklearn.model_selection import train_test_split\n",
    "\n",
    "X_train, X_test, y_train, y_test = train_test_split(X,y)"
   ]
  },
  {
   "cell_type": "code",
   "execution_count": 67,
   "metadata": {},
   "outputs": [
    {
     "data": {
      "text/plain": [
       "0.8493150684931506"
      ]
     },
     "execution_count": 67,
     "metadata": {},
     "output_type": "execute_result"
    }
   ],
   "source": [
    "LR.fit(X_train,y_train)\n",
    "\n",
    "y_pred = LR.predict(X_test)\n",
    "\n",
    "LR.score(X_test, y_test)"
   ]
  },
  {
   "cell_type": "code",
   "execution_count": 38,
   "metadata": {},
   "outputs": [
    {
     "data": {
      "image/png": "[encoded data removed]",
      "text/plain": [
       "<Figure size 432x288 with 1 Axes>"
      ]
     },
     "metadata": {
      "needs_background": "light"
     },
     "output_type": "display_data"
    }
   ],
   "source": [
    "ax = SAL_data.loc[:, 'TotalAssetsInMillions'].plot(kind='hist', bins=3);"
   ]
  },
  {
   "cell_type": "code",
   "execution_count": 39,
   "metadata": {},
   "outputs": [
    {
     "data": {
      "text/plain": [
       "count      3308.000000\n",
       "mean      18986.960843\n",
       "std       86953.180345\n",
       "min           0.000000\n",
       "25%           0.000000\n",
       "50%           0.000000\n",
       "75%          10.297500\n",
       "max      819825.500000\n",
       "Name: TotalAssetsInMillions, dtype: float64"
      ]
     },
     "execution_count": 39,
     "metadata": {},
     "output_type": "execute_result"
    }
   ],
   "source": [
    "# total assets statistics \n",
    "SAL_data['TotalAssetsInMillions'].describe()"
   ]
  },
  {
   "cell_type": "code",
   "execution_count": 40,
   "metadata": {},
   "outputs": [
    {
     "data": {
      "image/png": "[encoded data removed]",
      "text/plain": [
       "<Figure size 432x288 with 1 Axes>"
      ]
     },
     "metadata": {
      "needs_background": "light"
     },
     "output_type": "display_data"
    }
   ],
   "source": [
    "# visualize account size \n",
    "ax = SAL_data.plot(kind='scatter', x='AverageAccountSize', y='ID', alpha=0.5);"
   ]
  },
  {
   "cell_type": "code",
   "execution_count": 41,
   "metadata": {},
   "outputs": [
    {
     "data": {
      "text/plain": [
       "count    3.308000e+03\n",
       "mean     1.504380e+06\n",
       "std      2.515827e+07\n",
       "min      0.000000e+00\n",
       "25%      0.000000e+00\n",
       "50%      0.000000e+00\n",
       "75%      1.848450e+05\n",
       "max      1.116655e+09\n",
       "Name: AverageAccountSize, dtype: float64"
      ]
     },
     "execution_count": 41,
     "metadata": {},
     "output_type": "execute_result"
    }
   ],
   "source": [
    "# account size statistics \n",
    "SAL_data['AverageAccountSize'].describe()"
   ]
  },
  {
   "cell_type": "code",
   "execution_count": 42,
   "metadata": {},
   "outputs": [
    {
     "data": {
      "text/plain": [
       "Advisor/Financial Consulting                                 1\n",
       "Advisor/Financial Planner                                   53\n",
       "Advisor/Financial Planner/Registered Investment Advisor      4\n",
       "Asset Management                                             3\n",
       "Business Development                                         1\n",
       "Business Development/National Accounts                      76\n",
       "Compensation                                                 4\n",
       "Compliance                                                  28\n",
       "Consulting                                                 112\n",
       "Due Diligence                                               69\n",
       "Executive Management                                       241\n",
       "Finance/Treasury                                            46\n",
       "Individual Investor                                         19\n",
       "Individual/Retail/Personal Investing                         2\n",
       "Insurance                                                   17\n",
       "Investment Advisory                                        470\n",
       "Investment Advisory/Due Diligence                            5\n",
       "Investment Committee                                        37\n",
       "Investor Services                                           37\n",
       "Marketing                                                   61\n",
       "Media                                                        1\n",
       "Operations                                                   2\n",
       "Operations/Technology                                       76\n",
       "Other                                                      235\n",
       "Performance & Risk Team                                     20\n",
       "Portfolio Management                                       305\n",
       "Procurement                                                  2\n",
       "Product Management                                          28\n",
       "Registered Investment Advisor/Financial Planner            686\n",
       "Research Analysis                                            1\n",
       "Research Analyst/Due Diligence                               1\n",
       "Retirement Investments Consulting                           28\n",
       "Retirement Plan Administration                               5\n",
       "Sales/Relationship Management                              111\n",
       "Student                                                     18\n",
       "Talent Management                                            4\n",
       "Technology/Operations                                        1\n",
       "Total                                                        1\n",
       "Name: Role Type, dtype: int64"
      ]
     },
     "execution_count": 42,
     "metadata": {},
     "output_type": "execute_result"
    }
   ],
   "source": [
    "# look at role types\n",
    "# get all different kinds of role types\n",
    "SAL_data.loc[:, 'Role Type'].value_counts().sort_index()"
   ]
  },
  {
   "cell_type": "code",
   "execution_count": 43,
   "metadata": {},
   "outputs": [
    {
     "data": {
      "image/png": "[encoded data removed]",
      "text/plain": [
       "<Figure size 432x288 with 1 Axes>"
      ]
     },
     "metadata": {
      "needs_background": "light"
     },
     "output_type": "display_data"
    }
   ],
   "source": [
    "# plot by role type\n",
    "ax = SAL_data.loc[:, 'Role Type'].value_counts().plot(kind='bar')"
   ]
  },
  {
   "cell_type": "code",
   "execution_count": 46,
   "metadata": {},
   "outputs": [
    {
     "data": {
      "image/png": "[encoded data removed]",
      "text/plain": [
       "<Figure size 432x288 with 1 Axes>"
      ]
     },
     "metadata": {
      "needs_background": "light"
     },
     "output_type": "display_data"
    }
   ],
   "source": [
    "# Plot the same data as a (horizontal) bar plot \n",
    "ax = SAL_data.loc[:, 'Role Type'].value_counts().plot(kind='barh',fontsize=5);"
   ]
  },
  {
   "cell_type": "code",
   "execution_count": 62,
   "metadata": {},
   "outputs": [],
   "source": [
    "SAL_conversions = SAL_data.loc[SAL_data.loc[:, 'Conversion'] == 1, :]"
   ]
  },
  {
   "cell_type": "code",
   "execution_count": 63,
   "metadata": {},
   "outputs": [
    {
     "data": {
      "text/plain": [
       "(501, 82)"
      ]
     },
     "execution_count": 63,
     "metadata": {},
     "output_type": "execute_result"
    }
   ],
   "source": [
    "SAL_conversions.shape"
   ]
  },
  {
   "cell_type": "code",
   "execution_count": 64,
   "metadata": {},
   "outputs": [
    {
     "data": {
      "text/html": [
       "<div>\n",
       "<style scoped>\n",
       "    .dataframe tbody tr th:only-of-type {\n",
       "        vertical-align: middle;\n",
       "    }\n",
       "\n",
       "    .dataframe tbody tr th {\n",
       "        vertical-align: top;\n",
       "    }\n",
       "\n",
       "    .dataframe thead th {\n",
       "        text-align: right;\n",
       "    }\n",
       "</style>\n",
       "<table border=\"1\" class=\"dataframe\">\n",
       "  <thead>\n",
       "    <tr style=\"text-align: right;\">\n",
       "      <th></th>\n",
       "      <th>Contact/Lead ID</th>\n",
       "      <th>Contact/Lead Status</th>\n",
       "      <th>ID</th>\n",
       "      <th>Firm Type</th>\n",
       "      <th>Role Type</th>\n",
       "      <th>Contact/Lead Company Name</th>\n",
       "      <th>Product</th>\n",
       "      <th>Opportunity ID</th>\n",
       "      <th>Opportunity Sales Stage</th>\n",
       "      <th>Opportunity Lost Reason</th>\n",
       "      <th>...</th>\n",
       "      <th>Investments_UITs</th>\n",
       "      <th>Investments_USGovernmentSecurities</th>\n",
       "      <th>Investments_VariableAnnuities</th>\n",
       "      <th>Investments_VariableLife</th>\n",
       "      <th>Investments_VentureCapitalFunds</th>\n",
       "      <th>Investments_Warrants</th>\n",
       "      <th>Conversion</th>\n",
       "      <th>Conversion_pred</th>\n",
       "      <th>conversion_pred_prob</th>\n",
       "      <th>conversion_pred_prob2</th>\n",
       "    </tr>\n",
       "  </thead>\n",
       "  <tbody>\n",
       "    <tr>\n",
       "      <th>0</th>\n",
       "      <td>0030V00003gQkqcQAC</td>\n",
       "      <td>Converted</td>\n",
       "      <td>1</td>\n",
       "      <td>Registered Investment Advisory Firm (RIA)</td>\n",
       "      <td>Registered Investment Advisor/Financial Planner</td>\n",
       "      <td>Moore &amp; Shirley Financial Planning, LLC</td>\n",
       "      <td>NaN</td>\n",
       "      <td>NaN</td>\n",
       "      <td>NaN</td>\n",
       "      <td>NaN</td>\n",
       "      <td>...</td>\n",
       "      <td>Yes</td>\n",
       "      <td>Yes</td>\n",
       "      <td>Yes</td>\n",
       "      <td>NaN</td>\n",
       "      <td>NaN</td>\n",
       "      <td>NaN</td>\n",
       "      <td>1</td>\n",
       "      <td>0.151062</td>\n",
       "      <td>0.166831</td>\n",
       "      <td>0.499736</td>\n",
       "    </tr>\n",
       "    <tr>\n",
       "      <th>3</th>\n",
       "      <td>0030V00003dmT71QAE</td>\n",
       "      <td>Converted</td>\n",
       "      <td>4</td>\n",
       "      <td>Registered Investment Advisory Firm (RIA)</td>\n",
       "      <td>Portfolio Management</td>\n",
       "      <td>Executive Planning LLC</td>\n",
       "      <td>Morningstar Office Cloud</td>\n",
       "      <td>OPP536082</td>\n",
       "      <td>6 - Closed Lost</td>\n",
       "      <td>Dropped Project: Budget cut</td>\n",
       "      <td>...</td>\n",
       "      <td>NaN</td>\n",
       "      <td>NaN</td>\n",
       "      <td>Yes</td>\n",
       "      <td>Yes</td>\n",
       "      <td>NaN</td>\n",
       "      <td>NaN</td>\n",
       "      <td>1</td>\n",
       "      <td>0.150923</td>\n",
       "      <td>0.163286</td>\n",
       "      <td>0.499833</td>\n",
       "    </tr>\n",
       "    <tr>\n",
       "      <th>8</th>\n",
       "      <td>0030V00003dka2TQAQ</td>\n",
       "      <td>Converted</td>\n",
       "      <td>9</td>\n",
       "      <td>Asset Management Firm</td>\n",
       "      <td>Investment Advisory</td>\n",
       "      <td>Koon Financial Planning &amp; Consulting, LLC</td>\n",
       "      <td>Office Cloud - License</td>\n",
       "      <td>OPP528193</td>\n",
       "      <td>6 - Closed Lost</td>\n",
       "      <td>Competitor Won: We lack key capability</td>\n",
       "      <td>...</td>\n",
       "      <td>NaN</td>\n",
       "      <td>Yes</td>\n",
       "      <td>NaN</td>\n",
       "      <td>NaN</td>\n",
       "      <td>NaN</td>\n",
       "      <td>NaN</td>\n",
       "      <td>1</td>\n",
       "      <td>0.150852</td>\n",
       "      <td>0.170809</td>\n",
       "      <td>0.499883</td>\n",
       "    </tr>\n",
       "    <tr>\n",
       "      <th>15</th>\n",
       "      <td>0030V00003dlnduQAA</td>\n",
       "      <td>Converted</td>\n",
       "      <td>16</td>\n",
       "      <td>Registered Investment Advisory Firm (RIA)</td>\n",
       "      <td>Investment Advisory</td>\n",
       "      <td>Private Wealth Advisors, Inc.</td>\n",
       "      <td>Direct- License</td>\n",
       "      <td>OPP532023</td>\n",
       "      <td>3 - Securing</td>\n",
       "      <td>NaN</td>\n",
       "      <td>...</td>\n",
       "      <td>NaN</td>\n",
       "      <td>NaN</td>\n",
       "      <td>NaN</td>\n",
       "      <td>NaN</td>\n",
       "      <td>NaN</td>\n",
       "      <td>NaN</td>\n",
       "      <td>1</td>\n",
       "      <td>0.151405</td>\n",
       "      <td>0.162962</td>\n",
       "      <td>0.499497</td>\n",
       "    </tr>\n",
       "    <tr>\n",
       "      <th>17</th>\n",
       "      <td>0030V00003f4ZoqQAE</td>\n",
       "      <td>Converted</td>\n",
       "      <td>18</td>\n",
       "      <td>Asset Management Firm</td>\n",
       "      <td>NaN</td>\n",
       "      <td>Cherry Lane Capital LLC</td>\n",
       "      <td>Direct- License</td>\n",
       "      <td>OPP561770</td>\n",
       "      <td>3 - Securing</td>\n",
       "      <td>NaN</td>\n",
       "      <td>...</td>\n",
       "      <td>NaN</td>\n",
       "      <td>Yes</td>\n",
       "      <td>NaN</td>\n",
       "      <td>NaN</td>\n",
       "      <td>NaN</td>\n",
       "      <td>NaN</td>\n",
       "      <td>1</td>\n",
       "      <td>0.150755</td>\n",
       "      <td>0.162962</td>\n",
       "      <td>0.499950</td>\n",
       "    </tr>\n",
       "  </tbody>\n",
       "</table>\n",
       "<p>5 rows × 82 columns</p>\n",
       "</div>"
      ],
      "text/plain": [
       "       Contact/Lead ID Contact/Lead Status  ID  \\\n",
       "0   0030V00003gQkqcQAC           Converted   1   \n",
       "3   0030V00003dmT71QAE           Converted   4   \n",
       "8   0030V00003dka2TQAQ           Converted   9   \n",
       "15  0030V00003dlnduQAA           Converted  16   \n",
       "17  0030V00003f4ZoqQAE           Converted  18   \n",
       "\n",
       "                                    Firm Type  \\\n",
       "0   Registered Investment Advisory Firm (RIA)   \n",
       "3   Registered Investment Advisory Firm (RIA)   \n",
       "8                       Asset Management Firm   \n",
       "15  Registered Investment Advisory Firm (RIA)   \n",
       "17                      Asset Management Firm   \n",
       "\n",
       "                                          Role Type  \\\n",
       "0   Registered Investment Advisor/Financial Planner   \n",
       "3                              Portfolio Management   \n",
       "8                               Investment Advisory   \n",
       "15                              Investment Advisory   \n",
       "17                                              NaN   \n",
       "\n",
       "                    Contact/Lead Company Name                   Product  \\\n",
       "0     Moore & Shirley Financial Planning, LLC                       NaN   \n",
       "3                      Executive Planning LLC  Morningstar Office Cloud   \n",
       "8   Koon Financial Planning & Consulting, LLC    Office Cloud - License   \n",
       "15              Private Wealth Advisors, Inc.           Direct- License   \n",
       "17                    Cherry Lane Capital LLC           Direct- License   \n",
       "\n",
       "   Opportunity ID Opportunity Sales Stage  \\\n",
       "0             NaN                     NaN   \n",
       "3       OPP536082         6 - Closed Lost   \n",
       "8       OPP528193         6 - Closed Lost   \n",
       "15      OPP532023            3 - Securing   \n",
       "17      OPP561770            3 - Securing   \n",
       "\n",
       "                   Opportunity Lost Reason          ...           \\\n",
       "0                                      NaN          ...            \n",
       "3              Dropped Project: Budget cut          ...            \n",
       "8   Competitor Won: We lack key capability          ...            \n",
       "15                                     NaN          ...            \n",
       "17                                     NaN          ...            \n",
       "\n",
       "   Investments_UITs Investments_USGovernmentSecurities  \\\n",
       "0               Yes                                Yes   \n",
       "3               NaN                                NaN   \n",
       "8               NaN                                Yes   \n",
       "15              NaN                                NaN   \n",
       "17              NaN                                Yes   \n",
       "\n",
       "    Investments_VariableAnnuities Investments_VariableLife  \\\n",
       "0                             Yes                      NaN   \n",
       "3                             Yes                      Yes   \n",
       "8                             NaN                      NaN   \n",
       "15                            NaN                      NaN   \n",
       "17                            NaN                      NaN   \n",
       "\n",
       "   Investments_VentureCapitalFunds Investments_Warrants  Conversion  \\\n",
       "0                              NaN                  NaN           1   \n",
       "3                              NaN                  NaN           1   \n",
       "8                              NaN                  NaN           1   \n",
       "15                             NaN                  NaN           1   \n",
       "17                             NaN                  NaN           1   \n",
       "\n",
       "   Conversion_pred conversion_pred_prob conversion_pred_prob2  \n",
       "0         0.151062             0.166831              0.499736  \n",
       "3         0.150923             0.163286              0.499833  \n",
       "8         0.150852             0.170809              0.499883  \n",
       "15        0.151405             0.162962              0.499497  \n",
       "17        0.150755             0.162962              0.499950  \n",
       "\n",
       "[5 rows x 82 columns]"
      ]
     },
     "execution_count": 64,
     "metadata": {},
     "output_type": "execute_result"
    }
   ],
   "source": [
    "SAL_conversions.head()"
   ]
  },
  {
   "cell_type": "code",
   "execution_count": 66,
   "metadata": {},
   "outputs": [
    {
     "data": {
      "text/plain": [
       "Advisor/Financial Planner                                    6\n",
       "Advisor/Financial Planner/Registered Investment Advisor      1\n",
       "Asset Management                                             1\n",
       "Business Development/National Accounts                      13\n",
       "Compliance                                                   6\n",
       "Consulting                                                  13\n",
       "Due Diligence                                                9\n",
       "Executive Management                                        47\n",
       "Finance/Treasury                                             2\n",
       "Individual Investor                                          1\n",
       "Insurance                                                    3\n",
       "Investment Advisory                                         90\n",
       "Investment Committee                                        10\n",
       "Investor Services                                            3\n",
       "Marketing                                                    9\n",
       "Operations                                                   1\n",
       "Operations/Technology                                       14\n",
       "Other                                                       29\n",
       "Performance & Risk Team                                      3\n",
       "Portfolio Management                                        65\n",
       "Product Management                                           3\n",
       "Registered Investment Advisor/Financial Planner            112\n",
       "Retirement Investments Consulting                            5\n",
       "Retirement Plan Administration                               1\n",
       "Sales/Relationship Management                               20\n",
       "Talent Management                                            1\n",
       "Name: Role Type, dtype: int64"
      ]
     },
     "execution_count": 66,
     "metadata": {},
     "output_type": "execute_result"
    }
   ],
   "source": [
    "# role types of conversions\n",
    "SAL_conversions.loc[:, 'Role Type'].value_counts().sort_index()"
   ]
  },
  {
   "cell_type": "code",
   "execution_count": 68,
   "metadata": {},
   "outputs": [
    {
     "data": {
      "text/plain": [
       "Academic Institution/Library                   64\n",
       "Asset Management Firm                         577\n",
       "Bank                                            1\n",
       "Broker/Dealer                                 418\n",
       "Brokerage Firm                                 18\n",
       "Clearing Firm/Custodial Firm                    9\n",
       "Consulting Firm                               161\n",
       "Employer/Plan Sponsor                           7\n",
       "Exchange                                        1\n",
       "Government/Regulatory Institution              10\n",
       "Hedge Fund                                     25\n",
       "Independent RIA                                 1\n",
       "Index Provider                                  5\n",
       "Individual Investor                            72\n",
       "Insurance Company                               8\n",
       "Insurance Firm                                 83\n",
       "Media/Publication                              19\n",
       "Other                                         168\n",
       "Pension, Endowment, Foundation                  9\n",
       "Private Bank/Trust Company                     43\n",
       "Private Equity Firm                            16\n",
       "RIA - Registered Investment Advisor            30\n",
       "Registered Investment Advisory Firm (RIA)    1077\n",
       "Retirement Plan Provider                       13\n",
       "Sovereign Wealth Fund                           2\n",
       "Total                                           1\n",
       "Trade Association                               2\n",
       "Wirehouse                                       5\n",
       "registered Investment Advisory (RIA)            2\n",
       "Name: Firm Type, dtype: int64"
      ]
     },
     "execution_count": 68,
     "metadata": {},
     "output_type": "execute_result"
    }
   ],
   "source": [
    "# look at firm types\n",
    "# get all different kinds of firm types\n",
    "SAL_data.loc[:, 'Firm Type'].value_counts().sort_index()"
   ]
  },
  {
   "cell_type": "code",
   "execution_count": 47,
   "metadata": {},
   "outputs": [
    {
     "data": {
      "image/png": "[encoded data removed]",
      "text/plain": [
       "<Figure size 432x288 with 1 Axes>"
      ]
     },
     "metadata": {
      "needs_background": "light"
     },
     "output_type": "display_data"
    }
   ],
   "source": [
    "# Plot the same data as a (horizontal) bar plot \n",
    "ax = SAL_data.loc[:, 'Firm Type'].value_counts().plot(kind='barh',fontsize=5);"
   ]
  },
  {
   "cell_type": "code",
   "execution_count": 67,
   "metadata": {},
   "outputs": [
    {
     "data": {
      "text/plain": [
       "Academic Institution/Library                   7\n",
       "Asset Management Firm                         95\n",
       "Broker/Dealer                                 50\n",
       "Brokerage Firm                                 2\n",
       "Consulting Firm                               21\n",
       "Employer/Plan Sponsor                          1\n",
       "Hedge Fund                                     6\n",
       "Index Provider                                 1\n",
       "Individual Investor                            3\n",
       "Insurance Company                              2\n",
       "Insurance Firm                                10\n",
       "Media/Publication                              1\n",
       "Other                                         16\n",
       "Pension, Endowment, Foundation                 3\n",
       "Private Bank/Trust Company                    13\n",
       "Private Equity Firm                            1\n",
       "RIA - Registered Investment Advisor            6\n",
       "Registered Investment Advisory Firm (RIA)    227\n",
       "Retirement Plan Provider                       3\n",
       "Sovereign Wealth Fund                          2\n",
       "registered Investment Advisory (RIA)           1\n",
       "Name: Firm Type, dtype: int64"
      ]
     },
     "execution_count": 67,
     "metadata": {},
     "output_type": "execute_result"
    }
   ],
   "source": [
    "# firm types of conversions\n",
    "SAL_conversions.loc[:, 'Firm Type'].value_counts().sort_index()"
   ]
  },
  {
   "cell_type": "code",
   "execution_count": null,
   "metadata": {},
   "outputs": [],
   "source": [
    "# investment strategy of conversions\n",
    "SAL_conversions.loc[:, 'Role Type'].value_counts().sort_index()"
   ]
  },
  {
   "cell_type": "code",
   "execution_count": null,
   "metadata": {},
   "outputs": [],
   "source": [
    "# Type 1: Advisor/Financial Planner\n",
    "# Types 5, 6, 7 are household glass.\n",
    "# /scrub/\n",
    "SAL_data['Role Type'] = SAL_data.role_types.map({1:0, 2:0, 3:0, 5:1, 6:1, 7:1})"
   ]
  },
  {
   "cell_type": "code",
   "execution_count": null,
   "metadata": {},
   "outputs": [],
   "source": [
    "# fill nulls with reasonable values \n",
    "SAL_data['TotalAssetsInMillions'].fillna(value=None, inplace=True)\n",
    "\n",
    "# Verify there are no longer null values\n",
    "SAL_data['TotalAssetsInMillions'].isnull().sum()"
   ]
  }
 ],
 "metadata": {
  "kernelspec": {
   "display_name": "Python 3",
   "language": "python",
   "name": "python3"
  },
  "language_info": {
   "codemirror_mode": {
    "name": "ipython",
    "version": 3
   },
   "file_extension": ".py",
   "mimetype": "text/x-python",
   "name": "python",
   "nbconvert_exporter": "python",
   "pygments_lexer": "ipython3",
   "version": "3.7.0"
  }
 },
 "nbformat": 4,
 "nbformat_minor": 2
}
